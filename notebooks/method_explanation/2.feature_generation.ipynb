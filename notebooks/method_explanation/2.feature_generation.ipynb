{
 "cells": [
  {
   "cell_type": "markdown",
   "id": "c8fd6e1f",
   "metadata": {},
   "source": [
    "# The `eensight` functionality for generating features\n",
    "\n",
    "All feature generators generate pandas DataFrames"
   ]
  },
  {
   "cell_type": "code",
   "execution_count": 1,
   "id": "5e3faf85",
   "metadata": {},
   "outputs": [],
   "source": [
    "%load_ext autoreload\n",
    "%autoreload 2\n",
    "%matplotlib inline"
   ]
  },
  {
   "cell_type": "code",
   "execution_count": 29,
   "id": "c5ea41e2",
   "metadata": {},
   "outputs": [],
   "source": [
    "import numpy as np\n",
    "import pandas as pd\n",
    "import matplotlib.pyplot as plt\n",
    "\n",
    "from sklearn.metrics import mean_squared_error\n",
    "from sklearn.linear_model import LinearRegression"
   ]
  },
  {
   "cell_type": "code",
   "execution_count": 3,
   "id": "45e95663",
   "metadata": {},
   "outputs": [],
   "source": [
    "from eensight.features.generate import TrendFeatures, DatetimeFeatures, CyclicalFeatures"
   ]
  },
  {
   "cell_type": "markdown",
   "id": "68ca6908",
   "metadata": {},
   "source": [
    "## Create time trend features \n",
    "\n",
    "### `eensight.features.generate.TrendFeatures` \n",
    "\n",
    "Generates time trend features.\n",
    "    \n",
    "    Parameters\n",
    "    ----------\n",
    "    feature : str, default=None\n",
    "        The name of the input dataframe's column that contains datetime information.\n",
    "        If None, it is assumed that the datetime information is provided by the\n",
    "        input dataframe's index.\n",
    "    include_bias : bool, default=False\n",
    "        If True, a column of ones is added to the output.\n",
    "    remainder : str, :type : {'drop', 'passthrough'}, default='passthrough'\n",
    "        By specifying ``remainder='passthrough'``, all the remaining columns of the\n",
    "        input dataset will be automatically passed through (concatenated with the\n",
    "        output of the transformer).\n",
    "    replace : bool, default=False\n",
    "        Specifies whether replacing an existing column with the same name is allowed\n",
    "        (when `remainder=passthrough`)."
   ]
  },
  {
   "cell_type": "markdown",
   "id": "d624acc8",
   "metadata": {},
   "source": [
    "We can create a dummy dataset:"
   ]
  },
  {
   "cell_type": "code",
   "execution_count": null,
   "id": "c882b4b7",
   "metadata": {},
   "outputs": [],
   "source": [
    "data = pd.DataFrame(index=pd.date_range(start='1/1/2018', end='31/12/2019', freq='H'))\n",
    "data['day'] = data.index.dayofyear\n",
    "data['x1'] = 4 + 3*np.sin(data['day']/365*2*np.pi)\n",
    "data['x2'] = 4 * np.sin(data['day']/365*4*np.pi+365/2)\n",
    "\n",
    "noise = np.random.normal(loc=0, scale=0.9, size=len(data))\n",
    "data['y'] = data['x1'] + data['x2'] + noise\n",
    "data.head()"
   ]
  },
  {
   "cell_type": "code",
   "execution_count": null,
   "id": "5d8dc705",
   "metadata": {},
   "outputs": [],
   "source": [
    "enc = TrendFeatures(include_bias=True, remainder='passthrough')\n",
    "features = enc.fit_transform(data)\n",
    "features.head()"
   ]
  },
  {
   "cell_type": "code",
   "execution_count": null,
   "id": "d3d080bc",
   "metadata": {},
   "outputs": [],
   "source": [
    "with plt.style.context('seaborn-whitegrid'):    \n",
    "    fig = plt.figure(figsize=(14, 3.54), dpi=96)\n",
    "    layout = (2, 1)\n",
    "    ax1 = plt.subplot2grid(layout, (0, 0))\n",
    "    ax2 = plt.subplot2grid(layout, (1, 0))\n",
    "    \n",
    "    ax1.plot(features['offset'], label='offset')\n",
    "    ax2.plot(features['growth'], label='growth')\n",
    "    ax1.legend(loc='upper left')\n",
    "    ax2.legend(loc='upper left')"
   ]
  },
  {
   "cell_type": "markdown",
   "id": "fc586d55",
   "metadata": {},
   "source": [
    "## Add date and time features\n",
    "\n",
    "### `eensight.features.encode.DatetimeFeatures` \n",
    "\n",
    "Generates date and time features\n",
    "\n",
    "    Parameters\n",
    "    ----------\n",
    "    feature : str, default=None\n",
    "        The name of the input dataframe's column that contains datetime information.\n",
    "        If None, it is assumed that the datetime information is provided by the\n",
    "        input dataframe's index.\n",
    "    remainder : str, :type : {'drop', 'passthrough'}, default='passthrough'\n",
    "        By specifying ``remainder='passthrough'``, all the remaining columns of the\n",
    "        input dataset will be automatically passed through (concatenated with the\n",
    "        output of the transformer).\n",
    "    replace : bool, default=False\n",
    "        Specifies whether replacing an existing column with the same name is allowed\n",
    "        (when `remainder=passthrough`).\n",
    "    subset : str or list of str (default=None)\n",
    "        The names of the features to generate. If None, all features will be produced:\n",
    "        'month', 'week', 'dayofyear', 'dayofweek', 'hour', 'hourofweek'.\n",
    "        The last 2 features are generated only if the timestep of the input's\n",
    "        `feature` (or index if `feature` is None) is smaller than `pd.Timedelta(days=1)`."
   ]
  },
  {
   "cell_type": "code",
   "execution_count": null,
   "id": "507e1a18",
   "metadata": {},
   "outputs": [],
   "source": [
    "enc = DatetimeFeatures(remainder='drop')\n",
    "features = enc.fit_transform(data)\n",
    "features"
   ]
  },
  {
   "cell_type": "code",
   "execution_count": null,
   "id": "a5bc8b13",
   "metadata": {},
   "outputs": [],
   "source": [
    "enc = DatetimeFeatures(remainder='drop', subset=['month', 'hourofweek'])\n",
    "features = enc.fit_transform(data)\n",
    "features"
   ]
  },
  {
   "cell_type": "markdown",
   "id": "1c5c7b6e",
   "metadata": {},
   "source": [
    "## Encode cyclical (seasonal) features\n",
    "\n",
    "### `eensight.features.encode.CyclicalFeatures` \n",
    "\n",
    "Creates cyclical (seasonal) features as fourier terms\n",
    "\n",
    "    Parameters\n",
    "    ----------\n",
    "    seasonality : str\n",
    "        The name of the seasonality.\n",
    "    feature : str, default=None\n",
    "        The name of the input dataframe's column that contains datetime information.\n",
    "        If None, it is assumed that the datetime information is provided by the\n",
    "        input dataframe's index.\n",
    "    period : float, default=None\n",
    "        Number of days in one period.\n",
    "    fourier_order : int, default=None\n",
    "        Number of Fourier components to use.\n",
    "    remainder : str, :type : {'drop', 'passthrough'}, default='passthrough'\n",
    "        By specifying ``remainder='passthrough'``, all the remaining columns of the\n",
    "        input dataset will be automatically passed through (concatenated with the\n",
    "        output of the transformer).\n",
    "    replace : bool, default=False\n",
    "        Specifies whether replacing an existing column with the same name is allowed\n",
    "        (when `remainder=passthrough`).\n",
    "\n",
    "**Note**: The encoder can provide default values for `period` and `fourier_order` if `seasonality` is one of `daily`, `weekly` or `yearly`."
   ]
  },
  {
   "cell_type": "code",
   "execution_count": null,
   "id": "32fbb8a1",
   "metadata": {},
   "outputs": [],
   "source": [
    "with plt.style.context('seaborn-whitegrid'):    \n",
    "    fig = plt.figure(figsize=(14, 3.54), dpi=96)\n",
    "    layout = (1, 1)\n",
    "    ax = plt.subplot2grid(layout, (0, 0))\n",
    "    \n",
    "    data['y'].plot(ax=ax, alpha=0.5)"
   ]
  },
  {
   "cell_type": "code",
   "execution_count": null,
   "id": "cea4065c",
   "metadata": {},
   "outputs": [],
   "source": [
    "enc = CyclicalFeatures(seasonality='yearly', fourier_order=3, remainder='drop')\n",
    "features = enc.fit_transform(data)\n",
    "features.head()"
   ]
  },
  {
   "cell_type": "markdown",
   "id": "c8c58ca8",
   "metadata": {},
   "source": [
    "Now let’s plot the new features:"
   ]
  },
  {
   "cell_type": "code",
   "execution_count": null,
   "id": "4f74341e",
   "metadata": {},
   "outputs": [],
   "source": [
    "with plt.style.context('seaborn-whitegrid'):    \n",
    "    fig, axs = plt.subplots(2*enc.fourier_order, figsize=(14, 7), dpi=96)\n",
    "    \n",
    "    for i, col in enumerate(features.columns):\n",
    "        features[col].plot(ax=axs[i])\n",
    "    \n",
    "fig.tight_layout()"
   ]
  },
  {
   "cell_type": "markdown",
   "id": "e33385b8",
   "metadata": {},
   "source": [
    "Let's also see how well this transformation works:"
   ]
  },
  {
   "cell_type": "code",
   "execution_count": 27,
   "id": "331f3129",
   "metadata": {},
   "outputs": [],
   "source": [
    "regr = LinearRegression(fit_intercept=True).fit(features, data['y'])\n",
    "pred = regr.predict(features)"
   ]
  },
  {
   "cell_type": "code",
   "execution_count": null,
   "id": "e3afa195",
   "metadata": {},
   "outputs": [],
   "source": [
    "with plt.style.context('seaborn-whitegrid'):    \n",
    "    fig = plt.figure(figsize=(14, 3.54), dpi=96)\n",
    "    layout = (1, 1)\n",
    "    ax = plt.subplot2grid(layout, (0, 0))\n",
    "    \n",
    "    data['y'].plot(ax=ax, alpha=0.5)\n",
    "    pd.Series(pred, index=data.index).plot(ax=ax)"
   ]
  },
  {
   "cell_type": "markdown",
   "id": "651c827e",
   "metadata": {},
   "source": [
    "The root mean squared error is very close to the standard deviation of the noise that was injected in the data (0.9):"
   ]
  },
  {
   "cell_type": "code",
   "execution_count": null,
   "id": "ece16d1c",
   "metadata": {},
   "outputs": [],
   "source": [
    "mean_squared_error(data['y'], pred, squared=False)"
   ]
  },
  {
   "cell_type": "code",
   "execution_count": null,
   "id": "f496905f",
   "metadata": {},
   "outputs": [],
   "source": []
  }
 ],
 "metadata": {
  "kernelspec": {
   "display_name": "Python 3 (ipykernel)",
   "language": "python",
   "name": "python3"
  },
  "language_info": {
   "codemirror_mode": {
    "name": "ipython",
    "version": 3
   },
   "file_extension": ".py",
   "mimetype": "text/x-python",
   "name": "python",
   "nbconvert_exporter": "python",
   "pygments_lexer": "ipython3",
   "version": "3.8.0"
  }
 },
 "nbformat": 4,
 "nbformat_minor": 5
}
