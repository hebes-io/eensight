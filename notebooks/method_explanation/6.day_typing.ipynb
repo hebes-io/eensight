{
 "cells": [
  {
   "cell_type": "markdown",
   "id": "b1007df9",
   "metadata": {},
   "source": [
    "# The day typing pipeline \n",
    "\n",
    "All the predictive models for estimating the baseline energy consumption of a building work by exploiting the daily, weekly and yearly seasonality of the consumption data. Some models make the assumption that this seasonality can be identified across the whole dataset, whereas others assume that each calendar month is so distinct from the others that it should have its own monthly model. \n",
    "\n",
    "In contrast, the proposed approach makes no a priori assumptions regarding the daily, weekly and yearly similarities between the different observations in the dataset. Instead, it relies on the day typing stage to distinguish all the days in the available dataset into different categories according to the shape and scale of their energy consumption profiles. "
   ]
  },
  {
   "cell_type": "code",
   "execution_count": 1,
   "id": "0ed9249e",
   "metadata": {},
   "outputs": [],
   "source": [
    "%load_ext autoreload\n",
    "%autoreload 2\n",
    "\n",
    "%matplotlib inline"
   ]
  },
  {
   "cell_type": "code",
   "execution_count": 2,
   "id": "fa036146",
   "metadata": {},
   "outputs": [],
   "source": [
    "import math \n",
    "import hdbscan\n",
    "import warnings\n",
    "import calendar\n",
    "import functools\n",
    "import matplotlib.cm\n",
    "\n",
    "import numpy as np\n",
    "import pandas as pd\n",
    "import seaborn as sns\n",
    "import matplotlib.pyplot as plt\n",
    "import matplotlib.ticker as ticker\n",
    "import matplotlib.patches as patches\n",
    "\n",
    "from datetime import time\n",
    "from sklearn.pipeline import Pipeline\n",
    "from matplotlib.colors import LinearSegmentedColormap, ListedColormap\n"
   ]
  },
  {
   "cell_type": "markdown",
   "id": "bf1b8242",
   "metadata": {},
   "source": [
    "A plotting utility:"
   ]
  },
  {
   "cell_type": "code",
   "execution_count": 3,
   "id": "8803a2fd",
   "metadata": {},
   "outputs": [],
   "source": [
    "def get_colors(cmap, N=None, use_index=\"auto\"):\n",
    "    if isinstance(cmap, str):\n",
    "        if use_index == \"auto\":\n",
    "            if cmap in ['Pastel1', 'Pastel2', 'Paired', 'Accent',\n",
    "                        'Dark2', 'Set1', 'Set2', 'Set3',\n",
    "                        'tab10', 'tab20', 'tab20b', 'tab20c']:\n",
    "                use_index=True\n",
    "            else:\n",
    "                use_index=False\n",
    "        cmap = matplotlib.cm.get_cmap(cmap)\n",
    "    if not N:\n",
    "        N = cmap.N\n",
    "    if use_index==\"auto\":\n",
    "        if cmap.N > 100:\n",
    "            use_index=False\n",
    "        elif isinstance(cmap, LinearSegmentedColormap):\n",
    "            use_index=False\n",
    "        elif isinstance(cmap, ListedColormap):\n",
    "            use_index=True\n",
    "    if use_index:\n",
    "        ind = np.arange(int(N)) % cmap.N\n",
    "        return cmap(ind)\n",
    "    else:\n",
    "        return cmap(np.linspace(0,1,N))"
   ]
  },
  {
   "cell_type": "code",
   "execution_count": 4,
   "id": "a1616526",
   "metadata": {},
   "outputs": [],
   "source": [
    "from eensight.utils.jupyter import load_catalog\n",
    "from eensight.pipelines.day_typing import get_matrix_profile, find_prototypes\n",
    "from eensight.pipelines.day_typing import learn_distance_metric, metric_function\n",
    "from eensight.features.generate import DatetimeFeatures, MMCFeatures"
   ]
  },
  {
   "cell_type": "markdown",
   "id": "cc9855b0",
   "metadata": {},
   "source": [
    "### Select and read a preprocessed dataset from the data catalog"
   ]
  },
  {
   "cell_type": "code",
   "execution_count": 5,
   "id": "8a5f3dac",
   "metadata": {},
   "outputs": [],
   "source": [
    "catalog = load_catalog('demo', partial_catalog=True)"
   ]
  },
  {
   "cell_type": "code",
   "execution_count": null,
   "id": "1feae27d",
   "metadata": {},
   "outputs": [],
   "source": [
    "train_data = catalog.load('train.preprocessed_data')"
   ]
  },
  {
   "cell_type": "markdown",
   "id": "fbea6bae",
   "metadata": {},
   "source": [
    "### Categorization of consumption profiles"
   ]
  },
  {
   "cell_type": "markdown",
   "id": "655b15cf",
   "metadata": {},
   "source": [
    "For the day typing process:\n",
    " - outliers are replaced by NaN\n",
    " - All (whole) days where NaNs exceed half of the observations are removed\n",
    " - The remaining NaNs are imputed"
   ]
  },
  {
   "cell_type": "code",
   "execution_count": 8,
   "id": "54d01af4",
   "metadata": {},
   "outputs": [],
   "source": [
    "consumption = train_data[['consumption']].mask(train_data['consumption_outlier'], np.nan)\n",
    "\n",
    "remove = consumption['consumption'].isna().groupby(lambda x: x.date()).sum() > 0.5\n",
    "consumption = consumption[~np.isin(consumption.index.date, remove[remove].index)]\n",
    "\n",
    "consumption['consumption'] = consumption['consumption'].interpolate(method='nearest')"
   ]
  },
  {
   "cell_type": "markdown",
   "id": "a1000133",
   "metadata": {},
   "source": [
    "The consumption profiles of all the days in the dataset is presented next:"
   ]
  },
  {
   "cell_type": "code",
   "execution_count": 9,
   "id": "caad29da",
   "metadata": {},
   "outputs": [],
   "source": [
    "consumption['date'] = consumption.index.date\n",
    "consumption['time'] = consumption.index.time"
   ]
  },
  {
   "cell_type": "code",
   "execution_count": null,
   "id": "37922a33",
   "metadata": {},
   "outputs": [],
   "source": [
    "with plt.style.context('seaborn-whitegrid'):    \n",
    "    fig = plt.figure(figsize=(12, 3.54), dpi=96)\n",
    "    layout = (1, 1)\n",
    "    ax = plt.subplot2grid(layout, (0, 0))\n",
    "    \n",
    "    consumption.pivot(index='time', columns='date', values='consumption') \\\n",
    "               .plot(ax=ax, alpha=0.05, legend=None, color='#0570b0')\n",
    "    \n",
    "    ax.xaxis.set_major_locator(ticker.MultipleLocator(3600*2))\n",
    "    ax.set_xlabel('Hours')\n",
    "    ax.set_title('The hourly profiles of the building')"
   ]
  },
  {
   "cell_type": "markdown",
   "id": "52ac615b",
   "metadata": {},
   "source": [
    "The matrix profile is a measure of energy consumption predictability. The following plot presents the matrix profile values of all the subsequences in the consumption data of the building that: (a) have length $m$ that corresponds to one day (this means that $m=24$ for hourly data or $m=96$ for 15-min data), and (b) start at 00:00 hours, so that to only compare subsequences that span a full day’s period. The plot reflects a very well behaved building. Most values are low and only a few peaks are present. This implies that a lot of daily consumption profiles are similar to each other, and only a few of them are very different. \n",
    "\n",
    "Similar load profiles imply that similar activities take place inside a building. So, if we only have energy consumption and outdoor air temperature data (and this is very limited data), we can “help” our predictive model by asking it to focus on data with strong covariance. "
   ]
  },
  {
   "cell_type": "code",
   "execution_count": 11,
   "id": "2fb64492",
   "metadata": {},
   "outputs": [],
   "source": [
    "X = consumption['consumption']"
   ]
  },
  {
   "cell_type": "code",
   "execution_count": 12,
   "id": "73c4b1c1",
   "metadata": {},
   "outputs": [],
   "source": [
    "#window corresponds to number of hours no matter the time granularity of the dataset \n",
    "profile = get_matrix_profile(X, window=24) "
   ]
  },
  {
   "cell_type": "code",
   "execution_count": null,
   "id": "bec72f8a",
   "metadata": {},
   "outputs": [],
   "source": [
    "start_time = time(0, 0)\n",
    "profile_daily = profile[profile.index.time == start_time]\n",
    "\n",
    "with plt.style.context('seaborn-whitegrid'):    \n",
    "    fig = plt.figure(figsize=(12, 3.54), dpi=96)\n",
    "    layout = (1, 1)\n",
    "    ax = plt.subplot2grid(layout, (0, 0))\n",
    "    \n",
    "    profile_daily['nnd'].plot(ax=ax, style='-o', ms=3, alpha=0.8)\n",
    "    ax.legend(['Matrix profile values'], frameon=True, shadow=True)\n",
    "    ax.set_xlabel('Days')"
   ]
  },
  {
   "cell_type": "markdown",
   "id": "640f1c1e",
   "metadata": {},
   "source": [
    "We can isolate the days that look very dissimilar compared to all the others (discords). A discord is a consumption profile that is very different to all the other profiles in the dataset. In some cases, a discord is the result of outliers in metered data that escaped the preprocessing stage. In other cases, the respective profiles correspond to national holidays and the dataset does not contain enough instances of these holidays."
   ]
  },
  {
   "cell_type": "code",
   "execution_count": 14,
   "id": "365fa604",
   "metadata": {},
   "outputs": [],
   "source": [
    "discords = profile_daily[profile_daily['nnd'] >= profile_daily['nnd'].quantile(0.99)]\n",
    "discords = consumption.loc[np.isin(consumption.index.date, discords.index.date)]"
   ]
  },
  {
   "cell_type": "markdown",
   "id": "ed04654f",
   "metadata": {},
   "source": [
    "In this case, discords are days where no activity takes place in the building and consumption varies randomly around the baseload. If there is no pattern to pick up, day typing will characterize such a day as a discord:"
   ]
  },
  {
   "cell_type": "code",
   "execution_count": null,
   "id": "f8b9e7bf",
   "metadata": {},
   "outputs": [],
   "source": [
    "with plt.style.context('seaborn-whitegrid'):    \n",
    "    fig = plt.figure(figsize=(12, 3.54), dpi=96)\n",
    "    layout = (1, 1)\n",
    "    ax = plt.subplot2grid(layout, (0, 0))\n",
    "    \n",
    "    consumption.pivot(index='time', columns='date', values='consumption') \\\n",
    "               .plot(ax=ax, alpha=0.05, legend=None, color='#0570b0')\n",
    "    \n",
    "    discords.pivot(index='time', columns='date', values='consumption') \\\n",
    "               .plot(ax=ax, alpha=0.5, legend=None, color='#ae017e')\n",
    "    \n",
    "    ax.xaxis.set_major_locator(ticker.MultipleLocator(3600*2))\n",
    "    ax.set_xlabel('Hours')\n",
    "    ax.set_title('The hourly profiles of the building')"
   ]
  },
  {
   "cell_type": "markdown",
   "id": "2c35bec6",
   "metadata": {},
   "source": [
    "The information about the matrix profile score of each day in the dataset can be stored so that we can evaluate whether the baseline model does a good job at predicting the consumption of discords. If it does not, either additional information should be seeked for the discord days or a different model can be applied on the discord dataset.  "
   ]
  },
  {
   "cell_type": "markdown",
   "id": "a315e3e3",
   "metadata": {},
   "source": [
    "The day typing method can be applied on complete daily profiles or on any number of non-overlapping daily intervals. Here, we assume three (3) non-overlapping 8-hour intervals: *00:00-08:00*, *08:00-16:00* and *16:00-00:00*."
   ]
  },
  {
   "cell_type": "code",
   "execution_count": null,
   "id": "16992c8a",
   "metadata": {},
   "outputs": [],
   "source": [
    "window = 8\n",
    "time_step = X.index.to_series().diff().min()\n",
    "steps_per_hour = math.ceil(pd.Timedelta('1H') / time_step)\n",
    "m = window * steps_per_hour\n",
    "print(f'Each window of {window} hours includes {m} observations')"
   ]
  },
  {
   "cell_type": "code",
   "execution_count": 17,
   "id": "6aac0247",
   "metadata": {},
   "outputs": [],
   "source": [
    "profile = get_matrix_profile(X, window=window)"
   ]
  },
  {
   "cell_type": "code",
   "execution_count": 18,
   "id": "511e2995",
   "metadata": {},
   "outputs": [],
   "source": [
    "intervals = {}"
   ]
  },
  {
   "cell_type": "markdown",
   "id": "674ec3e3",
   "metadata": {},
   "source": [
    "#### Interval #1: `00:00-08:00`"
   ]
  },
  {
   "cell_type": "code",
   "execution_count": 19,
   "id": "3220c63d",
   "metadata": {},
   "outputs": [],
   "source": [
    "start_time = time(0, 0)\n",
    "end_time = time(8, 0)"
   ]
  },
  {
   "cell_type": "markdown",
   "id": "4c0f3756",
   "metadata": {},
   "source": [
    "We are searching for daily profiles that adequately summarise the available data. The key idea behind this approach is to identify a small number of recurring patterns (prototypes) that are very dissimilar to each other and can be used as points of reference for comparing all the remaining daily or sub-daily consumption profiles found in the dataset. \n",
    "\n",
    "The proposed methodology for day typing builds upon the distance and matrix profile data structures: \n",
    "\n",
    "> [Chin-Chia Michael Yeh, Y. Zhu, L. Ulanova, N. Begum, Y. Ding, H. A. Dau, D. F. Silva, A. Mueen, and E. Keogh (2016) “Matrix profile I: All pairs similarity joins for time series: a unifying view that includes motifs, discords and shapelets,” in 2016 IEEE 16thInternational Conference on Data Mining (ICDM), IEEE, pp. 1317–1322](https://www.semanticscholar.org/paper/Matrix-Profile-I%3A-All-Pairs-Similarity-Joins-for-A-Yeh-Zhu/a68271101067d91412bec50d71e1191c9be679fb)"
   ]
  },
  {
   "cell_type": "code",
   "execution_count": 20,
   "id": "86385ac2",
   "metadata": {},
   "outputs": [],
   "source": [
    "prototype_results = find_prototypes(X, profile, start_time, end_time=end_time,\n",
    "                                     max_iter=30, early_stopping=True, \n",
    "                                     early_stopping_val=-np.inf)"
   ]
  },
  {
   "cell_type": "markdown",
   "id": "6558c1ea",
   "metadata": {},
   "source": [
    "Since we aim at a small number of prototypes, we need a criterion for stopping this process and filtering out redundant patterns. To this end, we monitor the value of the squared maximum mean discrepancy (MMD) between the distribution of the energy consumption in the selected prototypes and the distribution of the energy consumption in all data. The (unbiased) squared MMD is calculated as:\n",
    "\n",
    "$$MMD^2=\\frac{1}{m(m-1)}\\sum_{i,j=1}^{m} k(z_i, z_j)-\\frac{2}{mn}\\sum_{i,j=1}^{m,n} k(z_i, x_j)+\\frac{1}{n(n-1)}\\sum_{i,j=1}^{n} k(x_i, x_j)$$\n",
    "\n",
    "where:\n",
    "\n",
    "$m$ is the number of all prototypes selected after each iteration\n",
    "\n",
    "$n$\tis the number of all daily profiles in the time interval under study\n",
    "\n",
    "$z$\tis a matrix with all prototypes\n",
    "\n",
    "$x$\tis a matrix with all daily profiles in the time interval under study\n",
    "\n",
    "$k(∙)$ is a kernel function.\n",
    "\n",
    "The closer the squared MMD is to zero, the better the distribution of the prototypes fits the data. The next plot shows the progression of the squared MMD as we add more prototypes. The first data point of the plot corresponds to two (2) prototypes already selected (we cannot calculate the MMD with only one prototype). We stop the prototype selection process the first time the absolute value of the MMD remains under 0.1 for two consecutive steps."
   ]
  },
  {
   "cell_type": "code",
   "execution_count": null,
   "id": "e7c4d44b",
   "metadata": {},
   "outputs": [],
   "source": [
    "with plt.style.context('seaborn-whitegrid'):    \n",
    "    fig = plt.figure(figsize=(12, 3), dpi=96)\n",
    "    layout = (1, 1)\n",
    "    ax = plt.subplot2grid(layout, (0, 0))\n",
    "\n",
    "    stopping_metric_ = pd.Series(prototype_results.stopping_metric)\n",
    "    stopping_metric_.plot(ax=ax, xticks=stopping_metric_.index, style='-o')\n",
    "    ax.set_xlabel('Number of iterations')\n",
    "    ax.set_title('Value of maximum mean discrepancy after each iteration')"
   ]
  },
  {
   "cell_type": "code",
   "execution_count": 22,
   "id": "c2629d84",
   "metadata": {},
   "outputs": [],
   "source": [
    "prototype_results = find_prototypes(X, profile, start_time, end_time=end_time,\n",
    "                                     max_iter=30, early_stopping=True, \n",
    "                                     early_stopping_val=0.1)"
   ]
  },
  {
   "cell_type": "code",
   "execution_count": null,
   "id": "fc9c94f5",
   "metadata": {},
   "outputs": [],
   "source": [
    "with plt.style.context('seaborn-whitegrid'): \n",
    "    fig = plt.figure(figsize=(14, 3.54), dpi=96)\n",
    "    layout = (1, 1)\n",
    "    ax = plt.subplot2grid(layout, (0, 0))\n",
    "\n",
    "    for i, min_idx in enumerate(prototype_results.prototypes):\n",
    "        prototype = X[min_idx:min_idx+m]\n",
    "        prototype.index = prototype.index.map(lambda x: x.time)\n",
    "        prototype.plot(label=f'Iteration #{i}', alpha=0.6)\n",
    "    \n",
    "    ax.set_xlabel('Hours')\n",
    "    ax.set_title('Selected prototype profiles after each iteration')\n",
    "    ax.xaxis.set_major_locator(ticker.MultipleLocator(3600*2))\n",
    "    \n",
    "    ax.legend(loc='best', ncol=1, frameon=True, shadow=True, bbox_to_anchor=(1.01, 1.01))"
   ]
  },
  {
   "cell_type": "markdown",
   "id": "619a9d92",
   "metadata": {},
   "source": [
    "The distances of each daily profile to each of the prototypes could be used as a way to cluster days. However, since consumption data is only available during the training of the predictive model, our goal is to translate the information about consumption profile similarity into information that can be constructed using daily-level data that is only available during prediction time:\n",
    "\n",
    "*\tDay of the week: An ordinal feature taking values from 0 (Monday) to 6 (Sunday);\n",
    "*\tMonth of the year: An ordinal feature taking values from 1 to 12.\n",
    "\n",
    "This implies a need for a clustering process that uses a specific kind of distance metric: one that given calendar information about two observations considers them close if their daily profiles are similar. To this end, the proposed methodology makes use of distance metric learning. Distance metric learning aims at automatically constructing task-specific distance metrics from (weakly) supervised data. In this case, the derived distance metric is just a function that gets the aforementioned time-based features as inputs and returns the similarity in the respective load shapes.\n",
    "\n",
    "The underlying algorithm [Jason V. Davis, Brian Kulis, Prateek Jain, Suvrit Sra, and Inderjit S. Dhillon (2007) \"Information-theoretic metric learning,\" In Proceedings of the 24th international conference on Machine learning (ICML '07), pp. 209–216](https://dl.acm.org/doi/10.1145/1273496.1273523) takes inputs `X` and target `y` as:\n",
    "\n",
    "- `X`: Each input data point is a pair of calendar days, each expressed as the corresponding month and day of week. The encoding scheme is presented below:\n",
    "\n",
    "  <img src=\"images/mmc.png?modified=12345678\" alt=\"grouped\" width=\"600\"/>\n",
    "  \n",
    "  \n",
    "- `y`: The target value for each pair is either 1 if the energy consumption profiles of the corresponding days are similar or -1 if they are not. \n",
    "\n",
    "According to the standard approach for predictive model evaluation, part of the pairs is used for training the distance metric learning algorithm and part is used only for evaluating its performance on unseen data. For the evaluation, we test whether given the time information of two observations (day of week and month of year), the model can accurately predict whether their load profiles are similar or not. We can treat it as a binary classification problem, and the `learn_distance_metric` function returns the [Matthews correlation coefficient](https://scikit-learn.org/stable/modules/generated/sklearn.metrics.matthews_corrcoef.html) for this evaluation. If the score is not satisfactory, a different than the proposed modelling approach can be pursued."
   ]
  },
  {
   "cell_type": "code",
   "execution_count": null,
   "id": "e40af3a7",
   "metadata": {},
   "outputs": [],
   "source": [
    "%%time\n",
    "\n",
    "distances = prototype_results.distance_from_prototypes\n",
    "metric_results = learn_distance_metric(distances, pairs_per_prototype=50, test_size=0.25)\n",
    "metric_results.score"
   ]
  },
  {
   "cell_type": "markdown",
   "id": "f2430c67",
   "metadata": {},
   "source": [
    "We can create a distance metric:"
   ]
  },
  {
   "cell_type": "code",
   "execution_count": 25,
   "id": "cc8b1758",
   "metadata": {},
   "outputs": [],
   "source": [
    "metric = functools.partial(metric_function, metric_results.metric_components)"
   ]
  },
  {
   "cell_type": "markdown",
   "id": "2227599d",
   "metadata": {},
   "source": [
    "... and use it to cluster the observations and derive the different day types of the dataset:"
   ]
  },
  {
   "cell_type": "code",
   "execution_count": 26,
   "id": "34fb8f9c",
   "metadata": {},
   "outputs": [],
   "source": [
    "clusterer = hdbscan.HDBSCAN(min_cluster_size=30, metric=metric)"
   ]
  },
  {
   "cell_type": "code",
   "execution_count": 27,
   "id": "ed0f2bfc",
   "metadata": {},
   "outputs": [],
   "source": [
    "# Get the data in a form that is understood by the metric function\n",
    "feature_pipeline = Pipeline([\n",
    "        ('dates', DatetimeFeatures(subset=['month', 'dayofweek'])),\n",
    "        ('features', MMCFeatures()),\n",
    "])\n",
    "\n",
    "features = feature_pipeline.fit_transform(distances)"
   ]
  },
  {
   "cell_type": "code",
   "execution_count": 28,
   "id": "2a678853",
   "metadata": {},
   "outputs": [],
   "source": [
    "with warnings.catch_warnings():\n",
    "    warnings.filterwarnings(\"ignore\", category=DeprecationWarning)\n",
    "    \n",
    "    clusterer = clusterer.fit(features)"
   ]
  },
  {
   "cell_type": "code",
   "execution_count": 29,
   "id": "3c4f977a",
   "metadata": {},
   "outputs": [],
   "source": [
    "clusters = pd.Series(data=clusterer.labels_, index=features.index.date)"
   ]
  },
  {
   "cell_type": "code",
   "execution_count": null,
   "id": "07230fde",
   "metadata": {},
   "outputs": [],
   "source": [
    "colors = get_colors('tab10', N=clusters.nunique())\n",
    "\n",
    "with plt.style.context('seaborn-whitegrid'):    \n",
    "    fig = plt.figure(figsize=(12, 3.54), dpi=96)\n",
    "    layout = (1, 1)\n",
    "    ax = plt.subplot2grid(layout, (0, 0))\n",
    "    \n",
    "    for cat in sorted(clusters.unique()):\n",
    "        if cat == -1:\n",
    "            continue\n",
    "        grouped = clusters[clusters==cat]\n",
    "        mask = np.isin(consumption.index.date, grouped.index)\n",
    "    \n",
    "        consumption[mask].pivot(index='time', columns='date', values='consumption') \\\n",
    "                   .plot(ax=ax, alpha=0.04, legend=None, color=colors[cat])\n",
    "    \n",
    "    grouped = clusters[clusters==-1]\n",
    "    if len(grouped) > 0:\n",
    "        mask = np.isin(consumption.index.date, grouped.index)\n",
    "        consumption[mask].pivot(index='time', columns='date', values='consumption') \\\n",
    "                   .plot(ax=ax, alpha=0.1, legend=None, color=colors[-1])\n",
    "    \n",
    "    rect = patches.Rectangle((0, 1000), 28800, 6000, linewidth=1, \n",
    "                             edgecolor='r',facecolor='none')\n",
    "    ax.add_patch(rect)\n",
    "    ax.set_ylim(800, 8000)\n",
    "    ax.xaxis.set_major_locator(ticker.MultipleLocator(3600*2))\n",
    "    ax.set_xlabel('Hours')\n",
    "    ax.set_title('The hourly profiles of the building')"
   ]
  },
  {
   "cell_type": "markdown",
   "id": "02ebfea0",
   "metadata": {},
   "source": [
    "Store the information:"
   ]
  },
  {
   "cell_type": "code",
   "execution_count": 31,
   "id": "5fceaf4c",
   "metadata": {},
   "outputs": [],
   "source": [
    "intervals[start_time] = {\n",
    "    'end_time': end_time,\n",
    "    'metric_components': metric_results.metric_components\n",
    "}"
   ]
  },
  {
   "cell_type": "markdown",
   "id": "97a06a5b",
   "metadata": {},
   "source": [
    "#### Interval #2: `08:00-16:00`"
   ]
  },
  {
   "cell_type": "code",
   "execution_count": 32,
   "id": "fb8dd215",
   "metadata": {},
   "outputs": [],
   "source": [
    "start_time = time(8, 0)\n",
    "end_time = time(16, 0)"
   ]
  },
  {
   "cell_type": "code",
   "execution_count": 33,
   "id": "e87741a6",
   "metadata": {},
   "outputs": [],
   "source": [
    "prototype_results = find_prototypes(X, profile, start_time, end_time=end_time,\n",
    "                                     max_iter=30, early_stopping=True, \n",
    "                                     early_stopping_val=-np.inf)"
   ]
  },
  {
   "cell_type": "code",
   "execution_count": null,
   "id": "1ddf72b2",
   "metadata": {},
   "outputs": [],
   "source": [
    "with plt.style.context('seaborn-whitegrid'):    \n",
    "    fig = plt.figure(figsize=(12, 3), dpi=96)\n",
    "    layout = (1, 1)\n",
    "    ax = plt.subplot2grid(layout, (0, 0))\n",
    "\n",
    "    stopping_metric_ = pd.Series(prototype_results.stopping_metric)\n",
    "    stopping_metric_.plot(ax=ax, xticks=stopping_metric_.index, style='-o')\n",
    "    ax.set_xlabel('Number of iterations')\n",
    "    ax.set_title('Value of maximum mean discrepancy after each iteration')"
   ]
  },
  {
   "cell_type": "code",
   "execution_count": 35,
   "id": "2e3a3a4e",
   "metadata": {},
   "outputs": [],
   "source": [
    "prototype_results = find_prototypes(X, profile, start_time, end_time=end_time,\n",
    "                                     max_iter=30, early_stopping=True, \n",
    "                                     early_stopping_val=0.1)"
   ]
  },
  {
   "cell_type": "code",
   "execution_count": null,
   "id": "bcf0ffd2",
   "metadata": {},
   "outputs": [],
   "source": [
    "with plt.style.context('seaborn-whitegrid'): \n",
    "    fig = plt.figure(figsize=(14, 3.54), dpi=96)\n",
    "    layout = (1, 1)\n",
    "    ax = plt.subplot2grid(layout, (0, 0))\n",
    "\n",
    "    for i, min_idx in enumerate(prototype_results.prototypes):\n",
    "        prototype = X[min_idx:min_idx+m]\n",
    "        prototype.index = prototype.index.map(lambda x: x.time)\n",
    "        prototype.plot(label=f'Iteration #{i}', alpha=0.6)\n",
    "    \n",
    "    ax.set_xlabel('Hours')\n",
    "    ax.set_title('Selected prototype profiles after each iteration')\n",
    "    ax.xaxis.set_major_locator(ticker.MultipleLocator(3600*2))\n",
    "    \n",
    "    ax.legend(loc='best', ncol=1, frameon=True, shadow=True, bbox_to_anchor=(1.01, 1.01))"
   ]
  },
  {
   "cell_type": "code",
   "execution_count": null,
   "id": "a6eaa99e",
   "metadata": {},
   "outputs": [],
   "source": [
    "distances = prototype_results.distance_from_prototypes\n",
    "metric_results = learn_distance_metric(distances, pairs_per_prototype=50, test_size=0.25)\n",
    "metric_results.score"
   ]
  },
  {
   "cell_type": "markdown",
   "id": "c01e2a12",
   "metadata": {},
   "source": [
    "We can create a distance metric:"
   ]
  },
  {
   "cell_type": "code",
   "execution_count": 38,
   "id": "7084f21a",
   "metadata": {},
   "outputs": [],
   "source": [
    "metric = functools.partial(metric_function, metric_results.metric_components)"
   ]
  },
  {
   "cell_type": "markdown",
   "id": "321d4453",
   "metadata": {},
   "source": [
    "... and use it to cluster the observations and derive the different day types of the dataset:"
   ]
  },
  {
   "cell_type": "code",
   "execution_count": 39,
   "id": "1df54b74",
   "metadata": {},
   "outputs": [],
   "source": [
    "clusterer = hdbscan.HDBSCAN(min_cluster_size=30, metric=metric)"
   ]
  },
  {
   "cell_type": "code",
   "execution_count": 40,
   "id": "12bdce01",
   "metadata": {},
   "outputs": [],
   "source": [
    "# Get the data in a form that is understood by the metric function\n",
    "feature_pipeline = Pipeline([\n",
    "        ('dates', DatetimeFeatures(subset=['month', 'dayofweek'])),\n",
    "        ('features', MMCFeatures()),\n",
    "])\n",
    "\n",
    "features = feature_pipeline.fit_transform(distances)"
   ]
  },
  {
   "cell_type": "code",
   "execution_count": 41,
   "id": "00efb6bf",
   "metadata": {},
   "outputs": [],
   "source": [
    "with warnings.catch_warnings():\n",
    "    warnings.filterwarnings(\"ignore\", category=DeprecationWarning)\n",
    "    \n",
    "    clusterer = clusterer.fit(features)"
   ]
  },
  {
   "cell_type": "code",
   "execution_count": 42,
   "id": "723141db",
   "metadata": {},
   "outputs": [],
   "source": [
    "clusters = pd.Series(data=clusterer.labels_, index=features.index.date)"
   ]
  },
  {
   "cell_type": "code",
   "execution_count": null,
   "id": "404e5f5a",
   "metadata": {},
   "outputs": [],
   "source": [
    "colors = get_colors('tab10', N=clusters.nunique())\n",
    "\n",
    "with plt.style.context('seaborn-whitegrid'):    \n",
    "    fig = plt.figure(figsize=(12, 3.54), dpi=96)\n",
    "    layout = (1, 1)\n",
    "    ax = plt.subplot2grid(layout, (0, 0))\n",
    "    \n",
    "    for cat in sorted(clusters.unique()):\n",
    "        if cat == -1:\n",
    "            continue\n",
    "        grouped = clusters[clusters==cat]\n",
    "        mask = np.isin(consumption.index.date, grouped.index)\n",
    "    \n",
    "        consumption[mask].pivot(index='time', columns='date', values='consumption') \\\n",
    "                   .plot(ax=ax, alpha=0.05, legend=None, color=colors[cat])\n",
    "    \n",
    "    grouped = clusters[clusters==-1]\n",
    "    if len(grouped) > 0:\n",
    "        mask = np.isin(consumption.index.date, grouped.index)\n",
    "        consumption[mask].pivot(index='time', columns='date', values='consumption') \\\n",
    "                   .plot(ax=ax, alpha=0.05, legend=None, color=colors[-1])\n",
    "    \n",
    "    \n",
    "    rect = patches.Rectangle((28800, 1000), 28800, 6500, linewidth=1, \n",
    "                             edgecolor='r',facecolor='none')\n",
    "    ax.add_patch(rect)\n",
    "    ax.set_ylim(800, 8000)\n",
    "    ax.xaxis.set_major_locator(ticker.MultipleLocator(3600*2))\n",
    "    ax.set_xlabel('Hours')\n",
    "    ax.set_title('The hourly profiles of the building')"
   ]
  },
  {
   "cell_type": "code",
   "execution_count": 44,
   "id": "16ec9663",
   "metadata": {},
   "outputs": [],
   "source": [
    "intervals[start_time] = {\n",
    "    'end_time': end_time,\n",
    "    'metric_components': metric_results.metric_components\n",
    "}"
   ]
  },
  {
   "cell_type": "markdown",
   "id": "f4ccacdd",
   "metadata": {},
   "source": [
    "#### Interval #3: `16:00-00:00`"
   ]
  },
  {
   "cell_type": "code",
   "execution_count": 45,
   "id": "03908a90",
   "metadata": {},
   "outputs": [],
   "source": [
    "start_time = time(16, 0)\n",
    "end_time = time(0, 0)"
   ]
  },
  {
   "cell_type": "code",
   "execution_count": 46,
   "id": "8e3033a9",
   "metadata": {},
   "outputs": [],
   "source": [
    "prototype_results = find_prototypes(X, profile, start_time, end_time=end_time,\n",
    "                                     max_iter=30, early_stopping=True, \n",
    "                                     early_stopping_val=-np.inf)"
   ]
  },
  {
   "cell_type": "code",
   "execution_count": null,
   "id": "6bf97723",
   "metadata": {},
   "outputs": [],
   "source": [
    "with plt.style.context('seaborn-whitegrid'):    \n",
    "    fig = plt.figure(figsize=(12, 3), dpi=96)\n",
    "    layout = (1, 1)\n",
    "    ax = plt.subplot2grid(layout, (0, 0))\n",
    "\n",
    "    stopping_metric_ = pd.Series(prototype_results.stopping_metric)\n",
    "    stopping_metric_.plot(ax=ax, xticks=stopping_metric_.index, style='-o')\n",
    "    ax.set_xlabel('Number of iterations')\n",
    "    ax.set_title('Value of maximum mean discrepancy after each iteration')"
   ]
  },
  {
   "cell_type": "code",
   "execution_count": 48,
   "id": "8d63a9ed",
   "metadata": {},
   "outputs": [],
   "source": [
    "prototype_results = find_prototypes(X, profile, start_time, end_time=end_time,\n",
    "                                     max_iter=30, early_stopping=True, \n",
    "                                     early_stopping_val=0.1)"
   ]
  },
  {
   "cell_type": "code",
   "execution_count": null,
   "id": "de921c98",
   "metadata": {},
   "outputs": [],
   "source": [
    "with plt.style.context('seaborn-whitegrid'): \n",
    "    fig = plt.figure(figsize=(14, 3.54), dpi=96)\n",
    "    layout = (1, 1)\n",
    "    ax = plt.subplot2grid(layout, (0, 0))\n",
    "\n",
    "    for i, min_idx in enumerate(prototype_results.prototypes):\n",
    "        prototype = X[min_idx:min_idx+m]\n",
    "        prototype.index = prototype.index.map(lambda x: x.time)\n",
    "        prototype.plot(label=f'Iteration #{i}', alpha=0.6)\n",
    "    \n",
    "    ax.set_xlabel('Hours')\n",
    "    ax.set_title('Selected prototype profiles after each iteration')\n",
    "    ax.xaxis.set_major_locator(ticker.MultipleLocator(3600*2))\n",
    "    \n",
    "    ax.legend(loc='best', ncol=1, frameon=True, shadow=True, bbox_to_anchor=(1.01, 1.01))"
   ]
  },
  {
   "cell_type": "code",
   "execution_count": null,
   "id": "19cb4b02",
   "metadata": {},
   "outputs": [],
   "source": [
    "distances = prototype_results.distance_from_prototypes\n",
    "metric_results = learn_distance_metric(distances, pairs_per_prototype=50, test_size=0.25)\n",
    "metric_results.score"
   ]
  },
  {
   "cell_type": "code",
   "execution_count": 51,
   "id": "0b4dcdec",
   "metadata": {},
   "outputs": [],
   "source": [
    "metric = functools.partial(metric_function, metric_results.metric_components)\n",
    "clusterer = hdbscan.HDBSCAN(min_cluster_size=30, metric=metric)"
   ]
  },
  {
   "cell_type": "code",
   "execution_count": 52,
   "id": "63c511cf",
   "metadata": {},
   "outputs": [],
   "source": [
    "# Get the data in a form that is understood by the metric function\n",
    "feature_pipeline = Pipeline([\n",
    "        ('dates', DatetimeFeatures(subset=['month', 'dayofweek'])),\n",
    "        ('features', MMCFeatures()),\n",
    "])\n",
    "\n",
    "features = feature_pipeline.fit_transform(distances)\n",
    "\n",
    "with warnings.catch_warnings():\n",
    "    warnings.filterwarnings(\"ignore\", category=DeprecationWarning)\n",
    "    \n",
    "    clusterer = clusterer.fit(features)\n",
    "    \n",
    "clusters = pd.Series(data=clusterer.labels_, index=features.index.date)"
   ]
  },
  {
   "cell_type": "code",
   "execution_count": null,
   "id": "e59bc0e1",
   "metadata": {},
   "outputs": [],
   "source": [
    "colors = get_colors('tab10', N=clusters.nunique())\n",
    "\n",
    "with plt.style.context('seaborn-whitegrid'):    \n",
    "    fig = plt.figure(figsize=(12, 3.54), dpi=96)\n",
    "    layout = (1, 1)\n",
    "    ax = plt.subplot2grid(layout, (0, 0))\n",
    "    \n",
    "    for cat in sorted(clusters.unique()):\n",
    "        if cat == -1:\n",
    "            continue\n",
    "        grouped = clusters[clusters==cat]\n",
    "        mask = np.isin(consumption.index.date, grouped.index)\n",
    "    \n",
    "        consumption[mask].pivot(index='time', columns='date', values='consumption') \\\n",
    "                   .plot(ax=ax, alpha=0.05, legend=None, color=colors[cat])\n",
    "    \n",
    "    grouped = clusters[clusters==-1]\n",
    "    if len(grouped) > 0:\n",
    "        mask = np.isin(consumption.index.date, grouped.index)\n",
    "        consumption[mask].pivot(index='time', columns='date', values='consumption') \\\n",
    "                   .plot(ax=ax, alpha=0.05, legend=None, color=colors[-1])\n",
    "    \n",
    "    \n",
    "    rect = patches.Rectangle((57600, 1000), 28800, 6000, linewidth=1, \n",
    "                                 edgecolor='r',facecolor='none')\n",
    "    ax.add_patch(rect)\n",
    "    ax.set_ylim(800, 8000)\n",
    "    ax.xaxis.set_major_locator(ticker.MultipleLocator(3600*2))\n",
    "    ax.set_xlabel('Hours')\n",
    "    ax.set_title('The hourly profiles of the building')"
   ]
  },
  {
   "cell_type": "code",
   "execution_count": 54,
   "id": "f207b701",
   "metadata": {},
   "outputs": [],
   "source": [
    "intervals[start_time] = {\n",
    "    'end_time': end_time,\n",
    "    'metric_components': metric_results.metric_components\n",
    "}"
   ]
  },
  {
   "cell_type": "markdown",
   "id": "6ac89f46",
   "metadata": {},
   "source": [
    "### Save to catalog"
   ]
  },
  {
   "cell_type": "code",
   "execution_count": null,
   "id": "a98a0a3b",
   "metadata": {},
   "outputs": [],
   "source": [
    "catalog.save('matrix_profile_scores', profile_daily)"
   ]
  },
  {
   "cell_type": "code",
   "execution_count": null,
   "id": "b6a03b95",
   "metadata": {},
   "outputs": [],
   "source": [
    "catalog.save('distance_metrics', intervals)"
   ]
  },
  {
   "cell_type": "markdown",
   "id": "bb35e0a1",
   "metadata": {},
   "source": [
    "----------------"
   ]
  },
  {
   "cell_type": "markdown",
   "id": "2620583f",
   "metadata": {},
   "source": [
    "Alternatively, we could apply the day typing process to whole days:"
   ]
  },
  {
   "cell_type": "code",
   "execution_count": null,
   "id": "949b61cc",
   "metadata": {},
   "outputs": [],
   "source": [
    "window = 24\n",
    "time_step = X.index.to_series().diff().min()\n",
    "steps_per_hour = math.ceil(pd.Timedelta('1H') / time_step)\n",
    "m = window * steps_per_hour\n",
    "print(f'Each window of {window} hours includes {m} observations')"
   ]
  },
  {
   "cell_type": "code",
   "execution_count": 58,
   "id": "d39628fb",
   "metadata": {},
   "outputs": [],
   "source": [
    "profile = get_matrix_profile(X, window=window)"
   ]
  },
  {
   "cell_type": "code",
   "execution_count": 59,
   "id": "4b8e0007",
   "metadata": {},
   "outputs": [],
   "source": [
    "start_time = time(0, 0)"
   ]
  },
  {
   "cell_type": "code",
   "execution_count": 60,
   "id": "5c698535",
   "metadata": {},
   "outputs": [],
   "source": [
    "prototype_results = find_prototypes(X, profile, start_time,\n",
    "                                     max_iter=30, early_stopping=True, \n",
    "                                     early_stopping_val=-np.inf)"
   ]
  },
  {
   "cell_type": "code",
   "execution_count": null,
   "id": "71244ea1",
   "metadata": {},
   "outputs": [],
   "source": [
    "with plt.style.context('seaborn-whitegrid'):    \n",
    "    fig = plt.figure(figsize=(12, 3), dpi=96)\n",
    "    layout = (1, 1)\n",
    "    ax = plt.subplot2grid(layout, (0, 0))\n",
    "\n",
    "    stopping_metric_ = pd.Series(prototype_results.stopping_metric)\n",
    "    stopping_metric_.plot(ax=ax, xticks=stopping_metric_.index, style='-o')\n",
    "    ax.set_xlabel('Number of iterations')\n",
    "    ax.set_title('Value of maximum mean discrepancy after each iteration')"
   ]
  },
  {
   "cell_type": "code",
   "execution_count": 62,
   "id": "b15b1db4",
   "metadata": {},
   "outputs": [],
   "source": [
    "prototype_results = find_prototypes(X, profile, start_time,\n",
    "                                     max_iter=30, early_stopping=True, \n",
    "                                     early_stopping_val=0.1)"
   ]
  },
  {
   "cell_type": "code",
   "execution_count": null,
   "id": "55263f7e",
   "metadata": {},
   "outputs": [],
   "source": [
    "with plt.style.context('seaborn-whitegrid'): \n",
    "    fig = plt.figure(figsize=(14, 3.54), dpi=96)\n",
    "    layout = (1, 1)\n",
    "    ax = plt.subplot2grid(layout, (0, 0))\n",
    "\n",
    "    for i, min_idx in enumerate(prototype_results.prototypes):\n",
    "        prototype = X[min_idx:min_idx+m]\n",
    "        prototype.index = prototype.index.map(lambda x: x.time)\n",
    "        prototype.plot(label=f'Iteration #{i}', alpha=0.6)\n",
    "    \n",
    "    ax.set_xlabel('Hours')\n",
    "    ax.set_title('Selected prototype profiles after each iteration')\n",
    "    ax.xaxis.set_major_locator(ticker.MultipleLocator(3600*2))\n",
    "    \n",
    "    ax.legend(loc='best', ncol=1, frameon=True, shadow=True, bbox_to_anchor=(1.01, 1.01))"
   ]
  },
  {
   "cell_type": "code",
   "execution_count": null,
   "id": "82d5feb6",
   "metadata": {},
   "outputs": [],
   "source": [
    "distances = prototype_results.distance_from_prototypes\n",
    "metric_results = learn_distance_metric(distances, pairs_per_prototype=50, test_size=0.25)\n",
    "metric_results.score"
   ]
  },
  {
   "cell_type": "code",
   "execution_count": 65,
   "id": "7b961e94",
   "metadata": {},
   "outputs": [],
   "source": [
    "metric = functools.partial(metric_function, metric_results.metric_components)\n",
    "clusterer = hdbscan.HDBSCAN(min_cluster_size=15, metric=metric)"
   ]
  },
  {
   "cell_type": "code",
   "execution_count": 66,
   "id": "7efb4092",
   "metadata": {},
   "outputs": [],
   "source": [
    "# Get the data in a form that is understood by the metric function\n",
    "feature_pipeline = Pipeline([\n",
    "        ('dates', DatetimeFeatures(subset=['month', 'dayofweek'])),\n",
    "        ('features', MMCFeatures()),\n",
    "])\n",
    "\n",
    "features = feature_pipeline.fit_transform(distances)\n",
    "\n",
    "with warnings.catch_warnings():\n",
    "    warnings.filterwarnings(\"ignore\", category=DeprecationWarning)\n",
    "    clusterer = clusterer.fit(features)\n",
    "    \n",
    "clusters = pd.Series(data=clusterer.labels_, index=features.index.date)"
   ]
  },
  {
   "cell_type": "code",
   "execution_count": null,
   "id": "2a3143f3",
   "metadata": {},
   "outputs": [],
   "source": [
    "colors = get_colors('tab10', N=clusters.nunique())\n",
    "\n",
    "with plt.style.context('seaborn-whitegrid'):    \n",
    "    fig = plt.figure(figsize=(12, 3.54), dpi=96)\n",
    "    layout = (1, 1)\n",
    "    ax = plt.subplot2grid(layout, (0, 0))\n",
    "    \n",
    "    for cat in sorted(clusters.unique()):\n",
    "        if cat == -1:\n",
    "            continue\n",
    "        grouped = clusters[clusters==cat]\n",
    "        mask = np.isin(consumption.index.date, grouped.index)\n",
    "    \n",
    "        consumption[mask].pivot(index='time', columns='date', values='consumption') \\\n",
    "                   .plot(ax=ax, alpha=0.05, legend=None, color=colors[cat])\n",
    "    \n",
    "    grouped = clusters[clusters==-1]\n",
    "    if len(grouped) > 0:\n",
    "        mask = np.isin(consumption.index.date, grouped.index)\n",
    "        consumption[mask].pivot(index='time', columns='date', values='consumption') \\\n",
    "                   .plot(ax=ax, alpha=0.05, legend=None, color=colors[-1])\n",
    "    \n",
    "    \n",
    "    ax.xaxis.set_major_locator(ticker.MultipleLocator(3600*2))\n",
    "    ax.set_xlabel('Hours')\n",
    "    ax.set_title('The hourly profiles of the building')"
   ]
  },
  {
   "cell_type": "markdown",
   "id": "f076d365",
   "metadata": {},
   "source": [
    "----------------------------"
   ]
  },
  {
   "cell_type": "code",
   "execution_count": null,
   "id": "a4f8f17a",
   "metadata": {},
   "outputs": [],
   "source": []
  }
 ],
 "metadata": {
  "kernelspec": {
   "display_name": "Python 3 (ipykernel)",
   "language": "python",
   "name": "python3"
  },
  "language_info": {
   "codemirror_mode": {
    "name": "ipython",
    "version": 3
   },
   "file_extension": ".py",
   "mimetype": "text/x-python",
   "name": "python",
   "nbconvert_exporter": "python",
   "pygments_lexer": "ipython3",
   "version": "3.8.0"
  }
 },
 "nbformat": 4,
 "nbformat_minor": 5
}
