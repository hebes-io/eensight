{
 "cells": [
  {
   "cell_type": "markdown",
   "id": "4ce7dd96",
   "metadata": {},
   "source": [
    "# The baselining pipeline with a distance-based predictive model"
   ]
  },
  {
   "cell_type": "markdown",
   "id": "b9e8365b",
   "metadata": {},
   "source": [
    "Global non-linear models – such as Random Forest Trees, Gradient Boosting Trees or Neural Nets – can be very effective in terms of predicting building energy consumption. This is evident when one looks at the winning solutions of the [ASHRAE’s Great Energy Predictor III competition](https://www.kaggle.com/c/ashrae-energy-prediction) hosted by Kaggle; the top five (5) approaches utilized combinations of Gradient Boosting Trees (LightGBM, CatBoost, XGBoost) and Neural Nets (feed-forward networks and convolutional networks). \n",
    "\n",
    "However, interpretation and auditing of a global non-linear model is not trivial. Here, model interpretation is related to the transparency of an algorithm’s decisions, and the ability to identify what the algorithm has learned and what subset of the observations was most influential on what the algorithm learned.   \n",
    "\n",
    "An alternative to global non-linear models is an ensemble of local linear models. The general recipe for developing an ensemble of such models comprises the following steps:\n",
    "\n",
    " 1.\tSelect the linear model to be used as the local estimator (i.e. the building block of the ensemble);\n",
    " 2.\tDefine a way to quantify the notion of locality, i.e. when two (2) observations are close enough to be handled by the same local model;\n",
    " 3.\tDefine a strategy for selecting the observations to train each local model and for combining the results for all individual models into one prediction. \n",
    " \n",
    "Given a distance metric then, a general template for creating a predictive model ensemble is:\n",
    "\n",
    "1. Find a small set of anchors that adequately summarize the dataset \n",
    "2. Define a way to quantify the distance between each anchor and all remaining observations in the dataset \n",
    "3. Convert the distances of the previous step into weights\n",
    "4. Use the weights to randomly sample from the available dataset, so that to create one sample per anchor. Data observations that are close to an anchor are more likely to be selected than those far away. \n",
    "5. Fit one model per anchor using the relevant sample from step 4. \n",
    "6. Predict using the weighted sum of the models' predictions.\n",
    "\n"
   ]
  },
  {
   "cell_type": "markdown",
   "id": "87dcde12",
   "metadata": {},
   "source": [
    "## The linear model used as the local estimator\n",
    "\n",
    "The default local linear model used in `eensight` is defined in *eensight/conf/base/models/towt.yaml* as:\n",
    "\n",
    "```yaml\n",
    "add_features:\n",
    "  time:\n",
    "    feature: null \n",
    "    type: datetime\n",
    "    remainder: passthrough\n",
    "    subset: month, hourofweek\n",
    "\n",
    "regressors:\n",
    "  month:\n",
    "    feature: month\n",
    "    type: categorical\n",
    "    max_n_categories: null\n",
    "    encode_as: onehot \n",
    "  \n",
    "  tow:\n",
    "    feature: hourofweek\n",
    "    type: categorical\n",
    "    max_n_categories: null \n",
    "    stratify_by: null \n",
    "    excluded_categories: null \n",
    "    encode_as: onehot \n",
    "  \n",
    "  lin_temperature:\n",
    "    feature: temperature\n",
    "    type: linear\n",
    "    include_bias: false \n",
    "\n",
    "  spl_temperature:\n",
    "    feature: temperature\n",
    "    type: spline\n",
    "    n_knots: 4\n",
    "    degree: 2\n",
    "    strategy: quantile\n",
    "    extrapolation: constant\n",
    "    interaction_only: True\n",
    "\n",
    "interactions:\n",
    "  tow, spl_temperature:\n",
    "    tow:\n",
    "      max_n_categories: 5\n",
    "      stratify_by: temperature \n",
    "      min_samples_leaf: 20\n",
    "```"
   ]
  },
  {
   "cell_type": "markdown",
   "id": "5d225b76",
   "metadata": {},
   "source": [
    "We can apply the local model on the whole demo dataset. This functionality is provided by `eensight.models.LinearPredictor`:\n",
    "\n",
    "### `eensight.models.LinearPredictor` \n",
    "\n",
    "    Parameters\n",
    "    ----------\n",
    "    model_structure : dict\n",
    "        The model configuration\n",
    "    alpha : float (default=0.1)\n",
    "        Regularization strength of the underlying ridge regression; must be a positive \n",
    "        float. Regularization improves the conditioning of the problem and reduces the \n",
    "        variance of the estimates. Larger values specify stronger regularization.\n",
    "    fit_intercept : bool (default=False)\n",
    "        Whether to fit the intercept for this model. If set to false, no intercept will \n",
    "        be used in calculations."
   ]
  },
  {
   "cell_type": "code",
   "execution_count": 1,
   "id": "32aae9bb",
   "metadata": {},
   "outputs": [],
   "source": [
    "%load_ext autoreload\n",
    "%autoreload 2\n",
    "%matplotlib inline"
   ]
  },
  {
   "cell_type": "code",
   "execution_count": 2,
   "id": "2bb86f66",
   "metadata": {},
   "outputs": [],
   "source": [
    "import numpy as np\n",
    "import pandas as pd\n",
    "import seaborn as sns\n",
    "import matplotlib.pyplot as plt\n",
    "\n",
    "from sklearn.metrics import pairwise_distances\n",
    "from sklearn.preprocessing import StandardScaler"
   ]
  },
  {
   "cell_type": "code",
   "execution_count": 3,
   "id": "6df8b562",
   "metadata": {},
   "outputs": [],
   "source": [
    "from eensight.utils.jupyter import load_catalog\n",
    "from eensight.models import LinearPredictor, CalendarEnsemble, ParetoEnsemble\n",
    "from eensight.pipelines.model_selection import cvrmse, nmbe, optimize\n"
   ]
  },
  {
   "cell_type": "markdown",
   "id": "bee227ec",
   "metadata": {},
   "source": [
    "### Load the demo catalog"
   ]
  },
  {
   "cell_type": "code",
   "execution_count": 24,
   "id": "0aabcdae",
   "metadata": {},
   "outputs": [
    {
     "ename": "InterpolationKeyError",
     "evalue": "Interpolation key 'site_name' not found",
     "output_type": "error",
     "traceback": [
      "\u001b[1;31m---------------------------------------------------------------------------\u001b[0m",
      "\u001b[1;31mInterpolationKeyError\u001b[0m                     Traceback (most recent call last)",
      "\u001b[1;32mC:\\Users\\SPAPAD~1\\AppData\\Local\\Temp/ipykernel_6908/1084432205.py\u001b[0m in \u001b[0;36m<module>\u001b[1;34m\u001b[0m\n\u001b[1;32m----> 1\u001b[1;33m \u001b[0mcatalog\u001b[0m \u001b[1;33m=\u001b[0m \u001b[0mload_catalog\u001b[0m\u001b[1;33m(\u001b[0m\u001b[1;34m'demo'\u001b[0m\u001b[1;33m,\u001b[0m \u001b[0mmodel\u001b[0m\u001b[1;33m=\u001b[0m\u001b[1;34m'towt'\u001b[0m\u001b[1;33m)\u001b[0m\u001b[1;33m\u001b[0m\u001b[1;33m\u001b[0m\u001b[0m\n\u001b[0m",
      "\u001b[1;32mc:\\users\\spapadelis\\desktop\\eensight\\src\\eensight\\utils\\jupyter\\_jupyter.py\u001b[0m in \u001b[0;36mload_catalog\u001b[1;34m(catalog, model, parameters, env)\u001b[0m\n\u001b[0;32m     30\u001b[0m     )\n\u001b[0;32m     31\u001b[0m \u001b[1;33m\u001b[0m\u001b[0m\n\u001b[1;32m---> 32\u001b[1;33m     conf_catalog = config_loader.get(\n\u001b[0m\u001b[0;32m     33\u001b[0m         \u001b[1;34mf\"catalog*/{catalog}*\"\u001b[0m\u001b[1;33m,\u001b[0m \u001b[1;34mf\"catalog*/{catalog}*/**\"\u001b[0m\u001b[1;33m,\u001b[0m \u001b[1;34mf\"**/catalog*/{catalog}*\"\u001b[0m\u001b[1;33m\u001b[0m\u001b[1;33m\u001b[0m\u001b[0m\n\u001b[0;32m     34\u001b[0m     )\n",
      "\u001b[1;32mE:\\Users\\spapadelis\\Miniconda3\\envs\\eensight\\lib\\site-packages\\kedro\\config\\config.py\u001b[0m in \u001b[0;36mget\u001b[1;34m(self, *patterns)\u001b[0m\n\u001b[0;32m    247\u001b[0m                 \u001b[0mPath\u001b[0m\u001b[1;33m(\u001b[0m\u001b[0mconf_path\u001b[0m\u001b[1;33m)\u001b[0m\u001b[1;33m,\u001b[0m \u001b[0mpatterns\u001b[0m\u001b[1;33m,\u001b[0m \u001b[0mprocessed_files\u001b[0m\u001b[1;33m\u001b[0m\u001b[1;33m\u001b[0m\u001b[0m\n\u001b[0;32m    248\u001b[0m             )\n\u001b[1;32m--> 249\u001b[1;33m             \u001b[0mnew_conf\u001b[0m \u001b[1;33m=\u001b[0m \u001b[0mself\u001b[0m\u001b[1;33m.\u001b[0m\u001b[0m_load_configs\u001b[0m\u001b[1;33m(\u001b[0m\u001b[0mconfig_filepaths\u001b[0m\u001b[1;33m)\u001b[0m\u001b[1;33m\u001b[0m\u001b[1;33m\u001b[0m\u001b[0m\n\u001b[0m\u001b[0;32m    250\u001b[0m \u001b[1;33m\u001b[0m\u001b[0m\n\u001b[0;32m    251\u001b[0m             \u001b[0mcommon_keys\u001b[0m \u001b[1;33m=\u001b[0m \u001b[0mconfig\u001b[0m\u001b[1;33m.\u001b[0m\u001b[0mkeys\u001b[0m\u001b[1;33m(\u001b[0m\u001b[1;33m)\u001b[0m \u001b[1;33m&\u001b[0m \u001b[0mnew_conf\u001b[0m\u001b[1;33m.\u001b[0m\u001b[0mkeys\u001b[0m\u001b[1;33m(\u001b[0m\u001b[1;33m)\u001b[0m\u001b[1;33m\u001b[0m\u001b[1;33m\u001b[0m\u001b[0m\n",
      "\u001b[1;32mc:\\users\\spapadelis\\desktop\\eensight\\src\\eensight\\config\\config.py\u001b[0m in \u001b[0;36m_load_configs\u001b[1;34m(self, config_filepaths)\u001b[0m\n\u001b[0;32m    134\u001b[0m         \u001b[1;32mfor\u001b[0m \u001b[0mconfig_filepath\u001b[0m \u001b[1;32min\u001b[0m \u001b[0mconfig_filepaths\u001b[0m\u001b[1;33m:\u001b[0m\u001b[1;33m\u001b[0m\u001b[1;33m\u001b[0m\u001b[0m\n\u001b[0;32m    135\u001b[0m             \u001b[0msingle_config\u001b[0m \u001b[1;33m=\u001b[0m \u001b[0mself\u001b[0m\u001b[1;33m.\u001b[0m\u001b[0m_load_config_file\u001b[0m\u001b[1;33m(\u001b[0m\u001b[0mconfig_filepath\u001b[0m\u001b[1;33m)\u001b[0m\u001b[1;33m\u001b[0m\u001b[1;33m\u001b[0m\u001b[0m\n\u001b[1;32m--> 136\u001b[1;33m             \u001b[0msingle_config\u001b[0m \u001b[1;33m=\u001b[0m \u001b[0mOmegaConf\u001b[0m\u001b[1;33m.\u001b[0m\u001b[0mto_container\u001b[0m\u001b[1;33m(\u001b[0m\u001b[0msingle_config\u001b[0m\u001b[1;33m,\u001b[0m \u001b[0mresolve\u001b[0m\u001b[1;33m=\u001b[0m\u001b[1;32mTrue\u001b[0m\u001b[1;33m)\u001b[0m\u001b[1;33m\u001b[0m\u001b[1;33m\u001b[0m\u001b[0m\n\u001b[0m\u001b[0;32m    137\u001b[0m \u001b[1;33m\u001b[0m\u001b[0m\n\u001b[0;32m    138\u001b[0m             \u001b[1;32mfor\u001b[0m \u001b[0mkey\u001b[0m\u001b[1;33m,\u001b[0m \u001b[0mcontents\u001b[0m \u001b[1;32min\u001b[0m \u001b[0msingle_config\u001b[0m\u001b[1;33m.\u001b[0m\u001b[0mitems\u001b[0m\u001b[1;33m(\u001b[0m\u001b[1;33m)\u001b[0m\u001b[1;33m:\u001b[0m\u001b[1;33m\u001b[0m\u001b[1;33m\u001b[0m\u001b[0m\n",
      "\u001b[1;32mE:\\Users\\spapadelis\\Miniconda3\\envs\\eensight\\lib\\site-packages\\omegaconf\\omegaconf.py\u001b[0m in \u001b[0;36mto_container\u001b[1;34m(cfg, resolve, enum_to_str, structured_config_mode)\u001b[0m\n\u001b[0;32m    548\u001b[0m             )\n\u001b[0;32m    549\u001b[0m \u001b[1;33m\u001b[0m\u001b[0m\n\u001b[1;32m--> 550\u001b[1;33m         return BaseContainer._to_content(\n\u001b[0m\u001b[0;32m    551\u001b[0m             \u001b[0mcfg\u001b[0m\u001b[1;33m,\u001b[0m\u001b[1;33m\u001b[0m\u001b[1;33m\u001b[0m\u001b[0m\n\u001b[0;32m    552\u001b[0m             \u001b[0mresolve\u001b[0m\u001b[1;33m=\u001b[0m\u001b[0mresolve\u001b[0m\u001b[1;33m,\u001b[0m\u001b[1;33m\u001b[0m\u001b[1;33m\u001b[0m\u001b[0m\n",
      "\u001b[1;32mE:\\Users\\spapadelis\\Miniconda3\\envs\\eensight\\lib\\site-packages\\omegaconf\\basecontainer.py\u001b[0m in \u001b[0;36m_to_content\u001b[1;34m(conf, resolve, enum_to_str, structured_config_mode)\u001b[0m\n\u001b[0;32m    220\u001b[0m                     \u001b[0mkey\u001b[0m \u001b[1;33m=\u001b[0m \u001b[1;34mf\"{key.name}\"\u001b[0m\u001b[1;33m\u001b[0m\u001b[1;33m\u001b[0m\u001b[0m\n\u001b[0;32m    221\u001b[0m                 \u001b[1;32mif\u001b[0m \u001b[0misinstance\u001b[0m\u001b[1;33m(\u001b[0m\u001b[0mnode\u001b[0m\u001b[1;33m,\u001b[0m \u001b[0mContainer\u001b[0m\u001b[1;33m)\u001b[0m\u001b[1;33m:\u001b[0m\u001b[1;33m\u001b[0m\u001b[1;33m\u001b[0m\u001b[0m\n\u001b[1;32m--> 222\u001b[1;33m                     retdict[key] = BaseContainer._to_content(\n\u001b[0m\u001b[0;32m    223\u001b[0m                         \u001b[0mnode\u001b[0m\u001b[1;33m,\u001b[0m\u001b[1;33m\u001b[0m\u001b[1;33m\u001b[0m\u001b[0m\n\u001b[0;32m    224\u001b[0m                         \u001b[0mresolve\u001b[0m\u001b[1;33m=\u001b[0m\u001b[0mresolve\u001b[0m\u001b[1;33m,\u001b[0m\u001b[1;33m\u001b[0m\u001b[1;33m\u001b[0m\u001b[0m\n",
      "\u001b[1;32mE:\\Users\\spapadelis\\Miniconda3\\envs\\eensight\\lib\\site-packages\\omegaconf\\basecontainer.py\u001b[0m in \u001b[0;36m_to_content\u001b[1;34m(conf, resolve, enum_to_str, structured_config_mode)\u001b[0m\n\u001b[0;32m    220\u001b[0m                     \u001b[0mkey\u001b[0m \u001b[1;33m=\u001b[0m \u001b[1;34mf\"{key.name}\"\u001b[0m\u001b[1;33m\u001b[0m\u001b[1;33m\u001b[0m\u001b[0m\n\u001b[0;32m    221\u001b[0m                 \u001b[1;32mif\u001b[0m \u001b[0misinstance\u001b[0m\u001b[1;33m(\u001b[0m\u001b[0mnode\u001b[0m\u001b[1;33m,\u001b[0m \u001b[0mContainer\u001b[0m\u001b[1;33m)\u001b[0m\u001b[1;33m:\u001b[0m\u001b[1;33m\u001b[0m\u001b[1;33m\u001b[0m\u001b[0m\n\u001b[1;32m--> 222\u001b[1;33m                     retdict[key] = BaseContainer._to_content(\n\u001b[0m\u001b[0;32m    223\u001b[0m                         \u001b[0mnode\u001b[0m\u001b[1;33m,\u001b[0m\u001b[1;33m\u001b[0m\u001b[1;33m\u001b[0m\u001b[0m\n\u001b[0;32m    224\u001b[0m                         \u001b[0mresolve\u001b[0m\u001b[1;33m=\u001b[0m\u001b[0mresolve\u001b[0m\u001b[1;33m,\u001b[0m\u001b[1;33m\u001b[0m\u001b[1;33m\u001b[0m\u001b[0m\n",
      "\u001b[1;32mE:\\Users\\spapadelis\\Miniconda3\\envs\\eensight\\lib\\site-packages\\omegaconf\\basecontainer.py\u001b[0m in \u001b[0;36m_to_content\u001b[1;34m(conf, resolve, enum_to_str, structured_config_mode)\u001b[0m\n\u001b[0;32m    215\u001b[0m                 \u001b[1;32massert\u001b[0m \u001b[0misinstance\u001b[0m\u001b[1;33m(\u001b[0m\u001b[0mnode\u001b[0m\u001b[1;33m,\u001b[0m \u001b[0mNode\u001b[0m\u001b[1;33m)\u001b[0m\u001b[1;33m\u001b[0m\u001b[1;33m\u001b[0m\u001b[0m\n\u001b[0;32m    216\u001b[0m                 \u001b[1;32mif\u001b[0m \u001b[0mresolve\u001b[0m\u001b[1;33m:\u001b[0m\u001b[1;33m\u001b[0m\u001b[1;33m\u001b[0m\u001b[0m\n\u001b[1;32m--> 217\u001b[1;33m                     \u001b[0mnode\u001b[0m \u001b[1;33m=\u001b[0m \u001b[0mnode\u001b[0m\u001b[1;33m.\u001b[0m\u001b[0m_dereference_node\u001b[0m\u001b[1;33m(\u001b[0m\u001b[1;33m)\u001b[0m\u001b[1;33m\u001b[0m\u001b[1;33m\u001b[0m\u001b[0m\n\u001b[0m\u001b[0;32m    218\u001b[0m \u001b[1;33m\u001b[0m\u001b[0m\n\u001b[0;32m    219\u001b[0m                 \u001b[1;32mif\u001b[0m \u001b[0menum_to_str\u001b[0m \u001b[1;32mand\u001b[0m \u001b[0misinstance\u001b[0m\u001b[1;33m(\u001b[0m\u001b[0mkey\u001b[0m\u001b[1;33m,\u001b[0m \u001b[0mEnum\u001b[0m\u001b[1;33m)\u001b[0m\u001b[1;33m:\u001b[0m\u001b[1;33m\u001b[0m\u001b[1;33m\u001b[0m\u001b[0m\n",
      "\u001b[1;32mE:\\Users\\spapadelis\\Miniconda3\\envs\\eensight\\lib\\site-packages\\omegaconf\\base.py\u001b[0m in \u001b[0;36m_dereference_node\u001b[1;34m(self)\u001b[0m\n\u001b[0;32m    203\u001b[0m \u001b[1;33m\u001b[0m\u001b[0m\n\u001b[0;32m    204\u001b[0m     \u001b[1;32mdef\u001b[0m \u001b[0m_dereference_node\u001b[0m\u001b[1;33m(\u001b[0m\u001b[0mself\u001b[0m\u001b[1;33m)\u001b[0m \u001b[1;33m->\u001b[0m \u001b[1;34m\"Node\"\u001b[0m\u001b[1;33m:\u001b[0m\u001b[1;33m\u001b[0m\u001b[1;33m\u001b[0m\u001b[0m\n\u001b[1;32m--> 205\u001b[1;33m         \u001b[0mnode\u001b[0m \u001b[1;33m=\u001b[0m \u001b[0mself\u001b[0m\u001b[1;33m.\u001b[0m\u001b[0m_dereference_node_impl\u001b[0m\u001b[1;33m(\u001b[0m\u001b[0mthrow_on_resolution_failure\u001b[0m\u001b[1;33m=\u001b[0m\u001b[1;32mTrue\u001b[0m\u001b[1;33m)\u001b[0m\u001b[1;33m\u001b[0m\u001b[1;33m\u001b[0m\u001b[0m\n\u001b[0m\u001b[0;32m    206\u001b[0m         \u001b[1;32massert\u001b[0m \u001b[0mnode\u001b[0m \u001b[1;32mis\u001b[0m \u001b[1;32mnot\u001b[0m \u001b[1;32mNone\u001b[0m\u001b[1;33m\u001b[0m\u001b[1;33m\u001b[0m\u001b[0m\n\u001b[0;32m    207\u001b[0m         \u001b[1;32mreturn\u001b[0m \u001b[0mnode\u001b[0m\u001b[1;33m\u001b[0m\u001b[1;33m\u001b[0m\u001b[0m\n",
      "\u001b[1;32mE:\\Users\\spapadelis\\Miniconda3\\envs\\eensight\\lib\\site-packages\\omegaconf\\base.py\u001b[0m in \u001b[0;36m_dereference_node_impl\u001b[1;34m(self, throw_on_resolution_failure, memo)\u001b[0m\n\u001b[0;32m    234\u001b[0m         \u001b[1;32massert\u001b[0m \u001b[0mparent\u001b[0m \u001b[1;32mis\u001b[0m \u001b[1;32mnot\u001b[0m \u001b[1;32mNone\u001b[0m\u001b[1;33m\u001b[0m\u001b[1;33m\u001b[0m\u001b[0m\n\u001b[0;32m    235\u001b[0m         \u001b[0mkey\u001b[0m \u001b[1;33m=\u001b[0m \u001b[0mself\u001b[0m\u001b[1;33m.\u001b[0m\u001b[0m_key\u001b[0m\u001b[1;33m(\u001b[0m\u001b[1;33m)\u001b[0m\u001b[1;33m\u001b[0m\u001b[1;33m\u001b[0m\u001b[0m\n\u001b[1;32m--> 236\u001b[1;33m         return parent._resolve_interpolation_from_parse_tree(\n\u001b[0m\u001b[0;32m    237\u001b[0m             \u001b[0mparent\u001b[0m\u001b[1;33m=\u001b[0m\u001b[0mparent\u001b[0m\u001b[1;33m,\u001b[0m\u001b[1;33m\u001b[0m\u001b[1;33m\u001b[0m\u001b[0m\n\u001b[0;32m    238\u001b[0m             \u001b[0mkey\u001b[0m\u001b[1;33m=\u001b[0m\u001b[0mkey\u001b[0m\u001b[1;33m,\u001b[0m\u001b[1;33m\u001b[0m\u001b[1;33m\u001b[0m\u001b[0m\n",
      "\u001b[1;32mE:\\Users\\spapadelis\\Miniconda3\\envs\\eensight\\lib\\site-packages\\omegaconf\\base.py\u001b[0m in \u001b[0;36m_resolve_interpolation_from_parse_tree\u001b[1;34m(self, parent, value, key, parse_tree, throw_on_resolution_failure, memo)\u001b[0m\n\u001b[0;32m    480\u001b[0m \u001b[1;33m\u001b[0m\u001b[0m\n\u001b[0;32m    481\u001b[0m         \u001b[1;32mtry\u001b[0m\u001b[1;33m:\u001b[0m\u001b[1;33m\u001b[0m\u001b[1;33m\u001b[0m\u001b[0m\n\u001b[1;32m--> 482\u001b[1;33m             resolved = self.resolve_parse_tree(\n\u001b[0m\u001b[0;32m    483\u001b[0m                 \u001b[0mparse_tree\u001b[0m\u001b[1;33m=\u001b[0m\u001b[0mparse_tree\u001b[0m\u001b[1;33m,\u001b[0m \u001b[0mnode\u001b[0m\u001b[1;33m=\u001b[0m\u001b[0mvalue\u001b[0m\u001b[1;33m,\u001b[0m \u001b[0mkey\u001b[0m\u001b[1;33m=\u001b[0m\u001b[0mkey\u001b[0m\u001b[1;33m,\u001b[0m \u001b[0mparent\u001b[0m\u001b[1;33m=\u001b[0m\u001b[0mparent\u001b[0m\u001b[1;33m,\u001b[0m \u001b[0mmemo\u001b[0m\u001b[1;33m=\u001b[0m\u001b[0mmemo\u001b[0m\u001b[1;33m\u001b[0m\u001b[1;33m\u001b[0m\u001b[0m\n\u001b[0;32m    484\u001b[0m             )\n",
      "\u001b[1;32mE:\\Users\\spapadelis\\Miniconda3\\envs\\eensight\\lib\\site-packages\\omegaconf\\base.py\u001b[0m in \u001b[0;36mresolve_parse_tree\u001b[1;34m(self, parse_tree, node, memo, key, parent)\u001b[0m\n\u001b[0;32m    660\u001b[0m         )\n\u001b[0;32m    661\u001b[0m         \u001b[1;32mtry\u001b[0m\u001b[1;33m:\u001b[0m\u001b[1;33m\u001b[0m\u001b[1;33m\u001b[0m\u001b[0m\n\u001b[1;32m--> 662\u001b[1;33m             \u001b[1;32mreturn\u001b[0m \u001b[0mvisitor\u001b[0m\u001b[1;33m.\u001b[0m\u001b[0mvisit\u001b[0m\u001b[1;33m(\u001b[0m\u001b[0mparse_tree\u001b[0m\u001b[1;33m)\u001b[0m\u001b[1;33m\u001b[0m\u001b[1;33m\u001b[0m\u001b[0m\n\u001b[0m\u001b[0;32m    663\u001b[0m         \u001b[1;32mexcept\u001b[0m \u001b[0mInterpolationResolutionError\u001b[0m\u001b[1;33m:\u001b[0m\u001b[1;33m\u001b[0m\u001b[1;33m\u001b[0m\u001b[0m\n\u001b[0;32m    664\u001b[0m             \u001b[1;32mraise\u001b[0m\u001b[1;33m\u001b[0m\u001b[1;33m\u001b[0m\u001b[0m\n",
      "\u001b[1;32mE:\\Users\\spapadelis\\Miniconda3\\envs\\eensight\\lib\\site-packages\\antlr4\\tree\\Tree.py\u001b[0m in \u001b[0;36mvisit\u001b[1;34m(self, tree)\u001b[0m\n\u001b[0;32m     32\u001b[0m \u001b[1;32mclass\u001b[0m \u001b[0mParseTreeVisitor\u001b[0m\u001b[1;33m(\u001b[0m\u001b[0mobject\u001b[0m\u001b[1;33m)\u001b[0m\u001b[1;33m:\u001b[0m\u001b[1;33m\u001b[0m\u001b[1;33m\u001b[0m\u001b[0m\n\u001b[0;32m     33\u001b[0m     \u001b[1;32mdef\u001b[0m \u001b[0mvisit\u001b[0m\u001b[1;33m(\u001b[0m\u001b[0mself\u001b[0m\u001b[1;33m,\u001b[0m \u001b[0mtree\u001b[0m\u001b[1;33m)\u001b[0m\u001b[1;33m:\u001b[0m\u001b[1;33m\u001b[0m\u001b[1;33m\u001b[0m\u001b[0m\n\u001b[1;32m---> 34\u001b[1;33m         \u001b[1;32mreturn\u001b[0m \u001b[0mtree\u001b[0m\u001b[1;33m.\u001b[0m\u001b[0maccept\u001b[0m\u001b[1;33m(\u001b[0m\u001b[0mself\u001b[0m\u001b[1;33m)\u001b[0m\u001b[1;33m\u001b[0m\u001b[1;33m\u001b[0m\u001b[0m\n\u001b[0m\u001b[0;32m     35\u001b[0m \u001b[1;33m\u001b[0m\u001b[0m\n\u001b[0;32m     36\u001b[0m     \u001b[1;32mdef\u001b[0m \u001b[0mvisitChildren\u001b[0m\u001b[1;33m(\u001b[0m\u001b[0mself\u001b[0m\u001b[1;33m,\u001b[0m \u001b[0mnode\u001b[0m\u001b[1;33m)\u001b[0m\u001b[1;33m:\u001b[0m\u001b[1;33m\u001b[0m\u001b[1;33m\u001b[0m\u001b[0m\n",
      "\u001b[1;32mE:\\Users\\spapadelis\\Miniconda3\\envs\\eensight\\lib\\site-packages\\omegaconf\\grammar\\gen\\OmegaConfGrammarParser.py\u001b[0m in \u001b[0;36maccept\u001b[1;34m(self, visitor)\u001b[0m\n\u001b[0;32m    203\u001b[0m         \u001b[1;32mdef\u001b[0m \u001b[0maccept\u001b[0m\u001b[1;33m(\u001b[0m\u001b[0mself\u001b[0m\u001b[1;33m,\u001b[0m \u001b[0mvisitor\u001b[0m\u001b[1;33m:\u001b[0m\u001b[0mParseTreeVisitor\u001b[0m\u001b[1;33m)\u001b[0m\u001b[1;33m:\u001b[0m\u001b[1;33m\u001b[0m\u001b[1;33m\u001b[0m\u001b[0m\n\u001b[0;32m    204\u001b[0m             \u001b[1;32mif\u001b[0m \u001b[0mhasattr\u001b[0m\u001b[1;33m(\u001b[0m \u001b[0mvisitor\u001b[0m\u001b[1;33m,\u001b[0m \u001b[1;34m\"visitConfigValue\"\u001b[0m \u001b[1;33m)\u001b[0m\u001b[1;33m:\u001b[0m\u001b[1;33m\u001b[0m\u001b[1;33m\u001b[0m\u001b[0m\n\u001b[1;32m--> 205\u001b[1;33m                 \u001b[1;32mreturn\u001b[0m \u001b[0mvisitor\u001b[0m\u001b[1;33m.\u001b[0m\u001b[0mvisitConfigValue\u001b[0m\u001b[1;33m(\u001b[0m\u001b[0mself\u001b[0m\u001b[1;33m)\u001b[0m\u001b[1;33m\u001b[0m\u001b[1;33m\u001b[0m\u001b[0m\n\u001b[0m\u001b[0;32m    206\u001b[0m             \u001b[1;32melse\u001b[0m\u001b[1;33m:\u001b[0m\u001b[1;33m\u001b[0m\u001b[1;33m\u001b[0m\u001b[0m\n\u001b[0;32m    207\u001b[0m                 \u001b[1;32mreturn\u001b[0m \u001b[0mvisitor\u001b[0m\u001b[1;33m.\u001b[0m\u001b[0mvisitChildren\u001b[0m\u001b[1;33m(\u001b[0m\u001b[0mself\u001b[0m\u001b[1;33m)\u001b[0m\u001b[1;33m\u001b[0m\u001b[1;33m\u001b[0m\u001b[0m\n",
      "\u001b[1;32mE:\\Users\\spapadelis\\Miniconda3\\envs\\eensight\\lib\\site-packages\\omegaconf\\grammar_visitor.py\u001b[0m in \u001b[0;36mvisitConfigValue\u001b[1;34m(self, ctx)\u001b[0m\n\u001b[0;32m     99\u001b[0m         \u001b[1;31m# text EOF\u001b[0m\u001b[1;33m\u001b[0m\u001b[1;33m\u001b[0m\u001b[1;33m\u001b[0m\u001b[0m\n\u001b[0;32m    100\u001b[0m         \u001b[1;32massert\u001b[0m \u001b[0mctx\u001b[0m\u001b[1;33m.\u001b[0m\u001b[0mgetChildCount\u001b[0m\u001b[1;33m(\u001b[0m\u001b[1;33m)\u001b[0m \u001b[1;33m==\u001b[0m \u001b[1;36m2\u001b[0m\u001b[1;33m\u001b[0m\u001b[1;33m\u001b[0m\u001b[0m\n\u001b[1;32m--> 101\u001b[1;33m         \u001b[1;32mreturn\u001b[0m \u001b[0mself\u001b[0m\u001b[1;33m.\u001b[0m\u001b[0mvisit\u001b[0m\u001b[1;33m(\u001b[0m\u001b[0mctx\u001b[0m\u001b[1;33m.\u001b[0m\u001b[0mgetChild\u001b[0m\u001b[1;33m(\u001b[0m\u001b[1;36m0\u001b[0m\u001b[1;33m)\u001b[0m\u001b[1;33m)\u001b[0m\u001b[1;33m\u001b[0m\u001b[1;33m\u001b[0m\u001b[0m\n\u001b[0m\u001b[0;32m    102\u001b[0m \u001b[1;33m\u001b[0m\u001b[0m\n\u001b[0;32m    103\u001b[0m     \u001b[1;32mdef\u001b[0m \u001b[0mvisitDictKey\u001b[0m\u001b[1;33m(\u001b[0m\u001b[0mself\u001b[0m\u001b[1;33m,\u001b[0m \u001b[0mctx\u001b[0m\u001b[1;33m:\u001b[0m \u001b[0mOmegaConfGrammarParser\u001b[0m\u001b[1;33m.\u001b[0m\u001b[0mDictKeyContext\u001b[0m\u001b[1;33m)\u001b[0m \u001b[1;33m->\u001b[0m \u001b[0mAny\u001b[0m\u001b[1;33m:\u001b[0m\u001b[1;33m\u001b[0m\u001b[1;33m\u001b[0m\u001b[0m\n",
      "\u001b[1;32mE:\\Users\\spapadelis\\Miniconda3\\envs\\eensight\\lib\\site-packages\\antlr4\\tree\\Tree.py\u001b[0m in \u001b[0;36mvisit\u001b[1;34m(self, tree)\u001b[0m\n\u001b[0;32m     32\u001b[0m \u001b[1;32mclass\u001b[0m \u001b[0mParseTreeVisitor\u001b[0m\u001b[1;33m(\u001b[0m\u001b[0mobject\u001b[0m\u001b[1;33m)\u001b[0m\u001b[1;33m:\u001b[0m\u001b[1;33m\u001b[0m\u001b[1;33m\u001b[0m\u001b[0m\n\u001b[0;32m     33\u001b[0m     \u001b[1;32mdef\u001b[0m \u001b[0mvisit\u001b[0m\u001b[1;33m(\u001b[0m\u001b[0mself\u001b[0m\u001b[1;33m,\u001b[0m \u001b[0mtree\u001b[0m\u001b[1;33m)\u001b[0m\u001b[1;33m:\u001b[0m\u001b[1;33m\u001b[0m\u001b[1;33m\u001b[0m\u001b[0m\n\u001b[1;32m---> 34\u001b[1;33m         \u001b[1;32mreturn\u001b[0m \u001b[0mtree\u001b[0m\u001b[1;33m.\u001b[0m\u001b[0maccept\u001b[0m\u001b[1;33m(\u001b[0m\u001b[0mself\u001b[0m\u001b[1;33m)\u001b[0m\u001b[1;33m\u001b[0m\u001b[1;33m\u001b[0m\u001b[0m\n\u001b[0m\u001b[0;32m     35\u001b[0m \u001b[1;33m\u001b[0m\u001b[0m\n\u001b[0;32m     36\u001b[0m     \u001b[1;32mdef\u001b[0m \u001b[0mvisitChildren\u001b[0m\u001b[1;33m(\u001b[0m\u001b[0mself\u001b[0m\u001b[1;33m,\u001b[0m \u001b[0mnode\u001b[0m\u001b[1;33m)\u001b[0m\u001b[1;33m:\u001b[0m\u001b[1;33m\u001b[0m\u001b[1;33m\u001b[0m\u001b[0m\n",
      "\u001b[1;32mE:\\Users\\spapadelis\\Miniconda3\\envs\\eensight\\lib\\site-packages\\omegaconf\\grammar\\gen\\OmegaConfGrammarParser.py\u001b[0m in \u001b[0;36maccept\u001b[1;34m(self, visitor)\u001b[0m\n\u001b[0;32m    337\u001b[0m         \u001b[1;32mdef\u001b[0m \u001b[0maccept\u001b[0m\u001b[1;33m(\u001b[0m\u001b[0mself\u001b[0m\u001b[1;33m,\u001b[0m \u001b[0mvisitor\u001b[0m\u001b[1;33m:\u001b[0m\u001b[0mParseTreeVisitor\u001b[0m\u001b[1;33m)\u001b[0m\u001b[1;33m:\u001b[0m\u001b[1;33m\u001b[0m\u001b[1;33m\u001b[0m\u001b[0m\n\u001b[0;32m    338\u001b[0m             \u001b[1;32mif\u001b[0m \u001b[0mhasattr\u001b[0m\u001b[1;33m(\u001b[0m \u001b[0mvisitor\u001b[0m\u001b[1;33m,\u001b[0m \u001b[1;34m\"visitText\"\u001b[0m \u001b[1;33m)\u001b[0m\u001b[1;33m:\u001b[0m\u001b[1;33m\u001b[0m\u001b[1;33m\u001b[0m\u001b[0m\n\u001b[1;32m--> 339\u001b[1;33m                 \u001b[1;32mreturn\u001b[0m \u001b[0mvisitor\u001b[0m\u001b[1;33m.\u001b[0m\u001b[0mvisitText\u001b[0m\u001b[1;33m(\u001b[0m\u001b[0mself\u001b[0m\u001b[1;33m)\u001b[0m\u001b[1;33m\u001b[0m\u001b[1;33m\u001b[0m\u001b[0m\n\u001b[0m\u001b[0;32m    340\u001b[0m             \u001b[1;32melse\u001b[0m\u001b[1;33m:\u001b[0m\u001b[1;33m\u001b[0m\u001b[1;33m\u001b[0m\u001b[0m\n\u001b[0;32m    341\u001b[0m                 \u001b[1;32mreturn\u001b[0m \u001b[0mvisitor\u001b[0m\u001b[1;33m.\u001b[0m\u001b[0mvisitChildren\u001b[0m\u001b[1;33m(\u001b[0m\u001b[0mself\u001b[0m\u001b[1;33m)\u001b[0m\u001b[1;33m\u001b[0m\u001b[1;33m\u001b[0m\u001b[0m\n",
      "\u001b[1;32mE:\\Users\\spapadelis\\Miniconda3\\envs\\eensight\\lib\\site-packages\\omegaconf\\grammar_visitor.py\u001b[0m in \u001b[0;36mvisitText\u001b[1;34m(self, ctx)\u001b[0m\n\u001b[0;32m    299\u001b[0m \u001b[1;33m\u001b[0m\u001b[0m\n\u001b[0;32m    300\u001b[0m         \u001b[1;31m# Otherwise, concatenate string representations together.\u001b[0m\u001b[1;33m\u001b[0m\u001b[1;33m\u001b[0m\u001b[1;33m\u001b[0m\u001b[0m\n\u001b[1;32m--> 301\u001b[1;33m         \u001b[1;32mreturn\u001b[0m \u001b[0mself\u001b[0m\u001b[1;33m.\u001b[0m\u001b[0m_unescape\u001b[0m\u001b[1;33m(\u001b[0m\u001b[0mlist\u001b[0m\u001b[1;33m(\u001b[0m\u001b[0mctx\u001b[0m\u001b[1;33m.\u001b[0m\u001b[0mgetChildren\u001b[0m\u001b[1;33m(\u001b[0m\u001b[1;33m)\u001b[0m\u001b[1;33m)\u001b[0m\u001b[1;33m)\u001b[0m\u001b[1;33m\u001b[0m\u001b[1;33m\u001b[0m\u001b[0m\n\u001b[0m\u001b[0;32m    302\u001b[0m \u001b[1;33m\u001b[0m\u001b[0m\n\u001b[0;32m    303\u001b[0m     def _createPrimitive(\n",
      "\u001b[1;32mE:\\Users\\spapadelis\\Miniconda3\\envs\\eensight\\lib\\site-packages\\omegaconf\\grammar_visitor.py\u001b[0m in \u001b[0;36m_unescape\u001b[1;34m(self, seq)\u001b[0m\n\u001b[0;32m    387\u001b[0m             \u001b[1;32melse\u001b[0m\u001b[1;33m:\u001b[0m\u001b[1;33m\u001b[0m\u001b[1;33m\u001b[0m\u001b[0m\n\u001b[0;32m    388\u001b[0m                 \u001b[1;32massert\u001b[0m \u001b[0misinstance\u001b[0m\u001b[1;33m(\u001b[0m\u001b[0mnode\u001b[0m\u001b[1;33m,\u001b[0m \u001b[0mOmegaConfGrammarParser\u001b[0m\u001b[1;33m.\u001b[0m\u001b[0mInterpolationContext\u001b[0m\u001b[1;33m)\u001b[0m\u001b[1;33m\u001b[0m\u001b[1;33m\u001b[0m\u001b[0m\n\u001b[1;32m--> 389\u001b[1;33m                 \u001b[0mtext\u001b[0m \u001b[1;33m=\u001b[0m \u001b[0mstr\u001b[0m\u001b[1;33m(\u001b[0m\u001b[0mself\u001b[0m\u001b[1;33m.\u001b[0m\u001b[0mvisitInterpolation\u001b[0m\u001b[1;33m(\u001b[0m\u001b[0mnode\u001b[0m\u001b[1;33m)\u001b[0m\u001b[1;33m)\u001b[0m\u001b[1;33m\u001b[0m\u001b[1;33m\u001b[0m\u001b[0m\n\u001b[0m\u001b[0;32m    390\u001b[0m             \u001b[0mchrs\u001b[0m\u001b[1;33m.\u001b[0m\u001b[0mappend\u001b[0m\u001b[1;33m(\u001b[0m\u001b[0mtext\u001b[0m\u001b[1;33m)\u001b[0m\u001b[1;33m\u001b[0m\u001b[1;33m\u001b[0m\u001b[0m\n\u001b[0;32m    391\u001b[0m \u001b[1;33m\u001b[0m\u001b[0m\n",
      "\u001b[1;32mE:\\Users\\spapadelis\\Miniconda3\\envs\\eensight\\lib\\site-packages\\omegaconf\\grammar_visitor.py\u001b[0m in \u001b[0;36mvisitInterpolation\u001b[1;34m(self, ctx)\u001b[0m\n\u001b[0;32m    123\u001b[0m     ) -> Any:\n\u001b[0;32m    124\u001b[0m         \u001b[1;32massert\u001b[0m \u001b[0mctx\u001b[0m\u001b[1;33m.\u001b[0m\u001b[0mgetChildCount\u001b[0m\u001b[1;33m(\u001b[0m\u001b[1;33m)\u001b[0m \u001b[1;33m==\u001b[0m \u001b[1;36m1\u001b[0m  \u001b[1;31m# interpolationNode | interpolationResolver\u001b[0m\u001b[1;33m\u001b[0m\u001b[1;33m\u001b[0m\u001b[0m\n\u001b[1;32m--> 125\u001b[1;33m         \u001b[1;32mreturn\u001b[0m \u001b[0mself\u001b[0m\u001b[1;33m.\u001b[0m\u001b[0mvisit\u001b[0m\u001b[1;33m(\u001b[0m\u001b[0mctx\u001b[0m\u001b[1;33m.\u001b[0m\u001b[0mgetChild\u001b[0m\u001b[1;33m(\u001b[0m\u001b[1;36m0\u001b[0m\u001b[1;33m)\u001b[0m\u001b[1;33m)\u001b[0m\u001b[1;33m\u001b[0m\u001b[1;33m\u001b[0m\u001b[0m\n\u001b[0m\u001b[0;32m    126\u001b[0m \u001b[1;33m\u001b[0m\u001b[0m\n\u001b[0;32m    127\u001b[0m     def visitInterpolationNode(\n",
      "\u001b[1;32mE:\\Users\\spapadelis\\Miniconda3\\envs\\eensight\\lib\\site-packages\\antlr4\\tree\\Tree.py\u001b[0m in \u001b[0;36mvisit\u001b[1;34m(self, tree)\u001b[0m\n\u001b[0;32m     32\u001b[0m \u001b[1;32mclass\u001b[0m \u001b[0mParseTreeVisitor\u001b[0m\u001b[1;33m(\u001b[0m\u001b[0mobject\u001b[0m\u001b[1;33m)\u001b[0m\u001b[1;33m:\u001b[0m\u001b[1;33m\u001b[0m\u001b[1;33m\u001b[0m\u001b[0m\n\u001b[0;32m     33\u001b[0m     \u001b[1;32mdef\u001b[0m \u001b[0mvisit\u001b[0m\u001b[1;33m(\u001b[0m\u001b[0mself\u001b[0m\u001b[1;33m,\u001b[0m \u001b[0mtree\u001b[0m\u001b[1;33m)\u001b[0m\u001b[1;33m:\u001b[0m\u001b[1;33m\u001b[0m\u001b[1;33m\u001b[0m\u001b[0m\n\u001b[1;32m---> 34\u001b[1;33m         \u001b[1;32mreturn\u001b[0m \u001b[0mtree\u001b[0m\u001b[1;33m.\u001b[0m\u001b[0maccept\u001b[0m\u001b[1;33m(\u001b[0m\u001b[0mself\u001b[0m\u001b[1;33m)\u001b[0m\u001b[1;33m\u001b[0m\u001b[1;33m\u001b[0m\u001b[0m\n\u001b[0m\u001b[0;32m     35\u001b[0m \u001b[1;33m\u001b[0m\u001b[0m\n\u001b[0;32m     36\u001b[0m     \u001b[1;32mdef\u001b[0m \u001b[0mvisitChildren\u001b[0m\u001b[1;33m(\u001b[0m\u001b[0mself\u001b[0m\u001b[1;33m,\u001b[0m \u001b[0mnode\u001b[0m\u001b[1;33m)\u001b[0m\u001b[1;33m:\u001b[0m\u001b[1;33m\u001b[0m\u001b[1;33m\u001b[0m\u001b[0m\n",
      "\u001b[1;32mE:\\Users\\spapadelis\\Miniconda3\\envs\\eensight\\lib\\site-packages\\omegaconf\\grammar\\gen\\OmegaConfGrammarParser.py\u001b[0m in \u001b[0;36maccept\u001b[1;34m(self, visitor)\u001b[0m\n\u001b[0;32m    909\u001b[0m         \u001b[1;32mdef\u001b[0m \u001b[0maccept\u001b[0m\u001b[1;33m(\u001b[0m\u001b[0mself\u001b[0m\u001b[1;33m,\u001b[0m \u001b[0mvisitor\u001b[0m\u001b[1;33m:\u001b[0m\u001b[0mParseTreeVisitor\u001b[0m\u001b[1;33m)\u001b[0m\u001b[1;33m:\u001b[0m\u001b[1;33m\u001b[0m\u001b[1;33m\u001b[0m\u001b[0m\n\u001b[0;32m    910\u001b[0m             \u001b[1;32mif\u001b[0m \u001b[0mhasattr\u001b[0m\u001b[1;33m(\u001b[0m \u001b[0mvisitor\u001b[0m\u001b[1;33m,\u001b[0m \u001b[1;34m\"visitInterpolationNode\"\u001b[0m \u001b[1;33m)\u001b[0m\u001b[1;33m:\u001b[0m\u001b[1;33m\u001b[0m\u001b[1;33m\u001b[0m\u001b[0m\n\u001b[1;32m--> 911\u001b[1;33m                 \u001b[1;32mreturn\u001b[0m \u001b[0mvisitor\u001b[0m\u001b[1;33m.\u001b[0m\u001b[0mvisitInterpolationNode\u001b[0m\u001b[1;33m(\u001b[0m\u001b[0mself\u001b[0m\u001b[1;33m)\u001b[0m\u001b[1;33m\u001b[0m\u001b[1;33m\u001b[0m\u001b[0m\n\u001b[0m\u001b[0;32m    912\u001b[0m             \u001b[1;32melse\u001b[0m\u001b[1;33m:\u001b[0m\u001b[1;33m\u001b[0m\u001b[1;33m\u001b[0m\u001b[0m\n\u001b[0;32m    913\u001b[0m                 \u001b[1;32mreturn\u001b[0m \u001b[0mvisitor\u001b[0m\u001b[1;33m.\u001b[0m\u001b[0mvisitChildren\u001b[0m\u001b[1;33m(\u001b[0m\u001b[0mself\u001b[0m\u001b[1;33m)\u001b[0m\u001b[1;33m\u001b[0m\u001b[1;33m\u001b[0m\u001b[0m\n",
      "\u001b[1;32mE:\\Users\\spapadelis\\Miniconda3\\envs\\eensight\\lib\\site-packages\\omegaconf\\grammar_visitor.py\u001b[0m in \u001b[0;36mvisitInterpolationNode\u001b[1;34m(self, ctx)\u001b[0m\n\u001b[0;32m    156\u001b[0m \u001b[1;33m\u001b[0m\u001b[0m\n\u001b[0;32m    157\u001b[0m         \u001b[0minter_key\u001b[0m \u001b[1;33m=\u001b[0m \u001b[1;34m\"\"\u001b[0m\u001b[1;33m.\u001b[0m\u001b[0mjoin\u001b[0m\u001b[1;33m(\u001b[0m\u001b[0minter_key_tokens\u001b[0m\u001b[1;33m)\u001b[0m\u001b[1;33m\u001b[0m\u001b[1;33m\u001b[0m\u001b[0m\n\u001b[1;32m--> 158\u001b[1;33m         \u001b[1;32mreturn\u001b[0m \u001b[0mself\u001b[0m\u001b[1;33m.\u001b[0m\u001b[0mnode_interpolation_callback\u001b[0m\u001b[1;33m(\u001b[0m\u001b[0minter_key\u001b[0m\u001b[1;33m,\u001b[0m \u001b[0mself\u001b[0m\u001b[1;33m.\u001b[0m\u001b[0mmemo\u001b[0m\u001b[1;33m)\u001b[0m\u001b[1;33m\u001b[0m\u001b[1;33m\u001b[0m\u001b[0m\n\u001b[0m\u001b[0;32m    159\u001b[0m \u001b[1;33m\u001b[0m\u001b[0m\n\u001b[0;32m    160\u001b[0m     def visitInterpolationResolver(\n",
      "\u001b[1;32mE:\\Users\\spapadelis\\Miniconda3\\envs\\eensight\\lib\\site-packages\\omegaconf\\base.py\u001b[0m in \u001b[0;36mnode_interpolation_callback\u001b[1;34m(inter_key, memo)\u001b[0m\n\u001b[0;32m    641\u001b[0m             \u001b[0minter_key\u001b[0m\u001b[1;33m:\u001b[0m \u001b[0mstr\u001b[0m\u001b[1;33m,\u001b[0m \u001b[0mmemo\u001b[0m\u001b[1;33m:\u001b[0m \u001b[0mOptional\u001b[0m\u001b[1;33m[\u001b[0m\u001b[0mSet\u001b[0m\u001b[1;33m[\u001b[0m\u001b[0mint\u001b[0m\u001b[1;33m]\u001b[0m\u001b[1;33m]\u001b[0m\u001b[1;33m\u001b[0m\u001b[1;33m\u001b[0m\u001b[0m\n\u001b[0;32m    642\u001b[0m         ) -> Optional[\"Node\"]:\n\u001b[1;32m--> 643\u001b[1;33m             \u001b[1;32mreturn\u001b[0m \u001b[0mself\u001b[0m\u001b[1;33m.\u001b[0m\u001b[0m_resolve_node_interpolation\u001b[0m\u001b[1;33m(\u001b[0m\u001b[0minter_key\u001b[0m\u001b[1;33m=\u001b[0m\u001b[0minter_key\u001b[0m\u001b[1;33m,\u001b[0m \u001b[0mmemo\u001b[0m\u001b[1;33m=\u001b[0m\u001b[0mmemo\u001b[0m\u001b[1;33m)\u001b[0m\u001b[1;33m\u001b[0m\u001b[1;33m\u001b[0m\u001b[0m\n\u001b[0m\u001b[0;32m    644\u001b[0m \u001b[1;33m\u001b[0m\u001b[0m\n\u001b[0;32m    645\u001b[0m         def resolver_interpolation_callback(\n",
      "\u001b[1;32mE:\\Users\\spapadelis\\Miniconda3\\envs\\eensight\\lib\\site-packages\\omegaconf\\base.py\u001b[0m in \u001b[0;36m_resolve_node_interpolation\u001b[1;34m(self, inter_key, memo)\u001b[0m\n\u001b[0;32m    571\u001b[0m \u001b[1;33m\u001b[0m\u001b[0m\n\u001b[0;32m    572\u001b[0m         \u001b[1;32mif\u001b[0m \u001b[0mparent\u001b[0m \u001b[1;32mis\u001b[0m \u001b[1;32mNone\u001b[0m \u001b[1;32mor\u001b[0m \u001b[0mvalue\u001b[0m \u001b[1;32mis\u001b[0m \u001b[1;32mNone\u001b[0m\u001b[1;33m:\u001b[0m\u001b[1;33m\u001b[0m\u001b[1;33m\u001b[0m\u001b[0m\n\u001b[1;32m--> 573\u001b[1;33m             \u001b[1;32mraise\u001b[0m \u001b[0mInterpolationKeyError\u001b[0m\u001b[1;33m(\u001b[0m\u001b[1;34mf\"Interpolation key '{inter_key}' not found\"\u001b[0m\u001b[1;33m)\u001b[0m\u001b[1;33m\u001b[0m\u001b[1;33m\u001b[0m\u001b[0m\n\u001b[0m\u001b[0;32m    574\u001b[0m         \u001b[1;32melse\u001b[0m\u001b[1;33m:\u001b[0m\u001b[1;33m\u001b[0m\u001b[1;33m\u001b[0m\u001b[0m\n\u001b[0;32m    575\u001b[0m             \u001b[0mself\u001b[0m\u001b[1;33m.\u001b[0m\u001b[0m_validate_not_dereferencing_to_parent\u001b[0m\u001b[1;33m(\u001b[0m\u001b[0mnode\u001b[0m\u001b[1;33m=\u001b[0m\u001b[0mself\u001b[0m\u001b[1;33m,\u001b[0m \u001b[0mtarget\u001b[0m\u001b[1;33m=\u001b[0m\u001b[0mvalue\u001b[0m\u001b[1;33m)\u001b[0m\u001b[1;33m\u001b[0m\u001b[1;33m\u001b[0m\u001b[0m\n",
      "\u001b[1;31mInterpolationKeyError\u001b[0m: Interpolation key 'site_name' not found"
     ]
    }
   ],
   "source": [
    "catalog = load_catalog('demo', model='towt')"
   ]
  },
  {
   "cell_type": "markdown",
   "id": "7c99a92c",
   "metadata": {},
   "source": [
    "### Load the training data from the catalog"
   ]
  },
  {
   "cell_type": "code",
   "execution_count": 5,
   "id": "5b553153",
   "metadata": {},
   "outputs": [],
   "source": [
    "data_train = catalog.load('train.preprocessed_data')\n",
    "data_train = data_train.dropna()\n",
    "\n",
    "X_train = data_train.loc[~data_train['consumption_outlier'], ['temperature']]\n",
    "y_train = data_train.loc[X_train.index, ['consumption']]"
   ]
  },
  {
   "cell_type": "code",
   "execution_count": 19,
   "id": "0b0106fc",
   "metadata": {},
   "outputs": [],
   "source": [
    "model_structure = catalog.load('model_structure')\n",
    "\n",
    "local_reg = LinearPredictor(model_structure=model_structure, alpha=0.1)"
   ]
  },
  {
   "cell_type": "markdown",
   "id": "8e6a22c3",
   "metadata": {},
   "source": [
    "Fit the training data"
   ]
  },
  {
   "cell_type": "code",
   "execution_count": null,
   "id": "5ff3f213",
   "metadata": {},
   "outputs": [],
   "source": [
    "%%time\n",
    "local_reg = local_reg.fit(X_train, y_train)"
   ]
  },
  {
   "cell_type": "markdown",
   "id": "0984f5db",
   "metadata": {},
   "source": [
    "Evaluate the model in-sample:"
   ]
  },
  {
   "cell_type": "code",
   "execution_count": null,
   "id": "9b8d3f5d",
   "metadata": {},
   "outputs": [],
   "source": [
    "%%time\n",
    "pred = local_reg.predict(data_train[['temperature']])"
   ]
  },
  {
   "cell_type": "code",
   "execution_count": 9,
   "id": "c78c795c",
   "metadata": {},
   "outputs": [],
   "source": [
    "resid = data_train[['consumption']] - pred[['consumption']]\n",
    "resid = StandardScaler().fit_transform(resid).squeeze()\n",
    "resid = pd.Series(data=resid, index=data_train.index)"
   ]
  },
  {
   "cell_type": "code",
   "execution_count": null,
   "id": "a6ee6e04",
   "metadata": {},
   "outputs": [],
   "source": [
    "outliers = resid[data_train['consumption_outlier']]\n",
    "\n",
    "with plt.style.context('seaborn-whitegrid'):\n",
    "    grid = sns.jointplot(x=pred['consumption'], y=resid)\n",
    "    sns.scatterplot(x=pred.loc[outliers.index, 'consumption'], y=outliers, \n",
    "                    color='red', ax=grid.ax_joint)\n",
    "    grid.fig.set_figwidth(12)\n",
    "    grid.fig.set_figheight(5)\n",
    "    grid.set_axis_labels(xlabel='Predicted Value', ylabel='Standardized Residuals')"
   ]
  },
  {
   "cell_type": "code",
   "execution_count": null,
   "id": "e86d7ca7",
   "metadata": {},
   "outputs": [],
   "source": [
    "y_true = data_train[['consumption']]\n",
    "\n",
    "print(f\"In-sample CV(RMSE) (%): {cvrmse(y_true, pred)*100}\")\n",
    "print(f\"In-sample NMBE (%): {nmbe(y_true, pred)*100}\")"
   ]
  },
  {
   "cell_type": "markdown",
   "id": "f68e615e",
   "metadata": {},
   "source": [
    "The number of parameters is:"
   ]
  },
  {
   "cell_type": "code",
   "execution_count": null,
   "id": "e8aa02cf",
   "metadata": {},
   "outputs": [],
   "source": [
    "local_reg.n_parameters"
   ]
  },
  {
   "cell_type": "markdown",
   "id": "34346f89",
   "metadata": {},
   "source": [
    "This is our benchmark. Additional complexity should improve both metrics. "
   ]
  },
  {
   "cell_type": "markdown",
   "id": "441551d8",
   "metadata": {},
   "source": [
    "## A notion of locality\n",
    "\n",
    "In the simpest case, anchors can be chosen to be days that cover uniformly the span of the calendar time, and the distance metric as the difference in calendar days between two observations.\n",
    "\n",
    "The relevant functionality is provided by `eensight.models.CalendarEnsemble`:\n",
    "\n",
    "### `eensight.models.CalendarEnsemble` \n",
    "\n",
    "A TOWT-like model using ensemble prediction.\n",
    "\n",
    "    Parameters\n",
    "    ----------\n",
    "    model_structure : dict\n",
    "        The base model's configuration\n",
    "    n_estimators : int (default=1)\n",
    "        The number of estimators.\n",
    "    sigma : float (default=0.5)\n",
    "        It controls the kernel width that generates weights for sampling the dataset for\n",
    "        each estimator. Generally, only values between 0.1 and 2 make practical sense.\n",
    "    weight_method : str, default='softmin'\n",
    "        Defines the way individual predictions from the estimators are weighted so that to\n",
    "        generate the final prediction. It can be 'softmin' or 'argmin'.\n",
    "    cache_location : str, pathlib.Path or None\n",
    "        The path to use as a data store for the metric calculations. If None is given, no\n",
    "        caching of the calculations is done.\n",
    "    alpha : float (default=0.1)\n",
    "        Regularization strength of the underlying ridge regression; must be a positive \n",
    "        float. Regularization improves the conditioning of the problem and reduces the \n",
    "        variance of the estimates. Larger values specify stronger regularization.\n",
    "    fit_intercept : bool (default=False)\n",
    "        Whether to fit the intercept for this model. If set to false, no intercept will be \n",
    "        used in calculations."
   ]
  },
  {
   "cell_type": "code",
   "execution_count": 51,
   "id": "78bf51cb",
   "metadata": {},
   "outputs": [],
   "source": [
    "model = CalendarEnsemble(model_structure=model_structure,\n",
    "                         n_estimators=6,\n",
    "                         sigma=1,\n",
    "                         weight_method=\"softmin\",\n",
    "                         cache_location=None,\n",
    "                         alpha=0.1,\n",
    "                         fit_intercept=False\n",
    ")"
   ]
  },
  {
   "cell_type": "code",
   "execution_count": null,
   "id": "d849e788",
   "metadata": {},
   "outputs": [],
   "source": [
    "%%time\n",
    "model = model.fit(X_train, y_train)"
   ]
  },
  {
   "cell_type": "markdown",
   "id": "b2282c77",
   "metadata": {},
   "source": [
    "We can visualize the weights that were used by each of the ensemble's estimators to sample the dataset:"
   ]
  },
  {
   "cell_type": "code",
   "execution_count": 53,
   "id": "0cc4eac3",
   "metadata": {},
   "outputs": [],
   "source": [
    "X_for_metric = np.array(model.metric_transformer.fit_transform(X_train))\n",
    "\n",
    "distances = pairwise_distances(\n",
    "    X_for_metric, model.anchors_, metric=model.metric_\n",
    ")\n",
    "\n",
    "weights = np.exp(-(distances ** 2) / (2*(model.sigma * distances.std())**2))"
   ]
  },
  {
   "cell_type": "markdown",
   "id": "64269cfd",
   "metadata": {},
   "source": [
    "We plot the weights of the first four estimators in the ensemble: "
   ]
  },
  {
   "cell_type": "code",
   "execution_count": null,
   "id": "cf637312",
   "metadata": {},
   "outputs": [],
   "source": [
    "with plt.style.context('seaborn-whitegrid'):    \n",
    "    fig = plt.figure(figsize=(12, 7), dpi=96)\n",
    "    \n",
    "    layout = (min(6, 2+weights.shape[1]), 1)\n",
    "        \n",
    "    axes = []\n",
    "\n",
    "    ax0 = plt.subplot2grid(layout, (0, 0), rowspan=2)\n",
    "    ax0.plot(y_train.index, y_train.values, alpha=0.5)\n",
    "\n",
    "    ax1 = plt.subplot2grid(layout, (2, 0))\n",
    "    ax1.plot(y_train.index, weights[:, 0])\n",
    "    axes.append(ax1)\n",
    "\n",
    "    if weights.shape[1] > 1:\n",
    "        ax2 = plt.subplot2grid(layout, (3, 0))\n",
    "        ax2.plot(y_train.index, weights[:, 1])\n",
    "        axes.append(ax2)\n",
    "\n",
    "    if weights.shape[1] > 2:\n",
    "        ax3 = plt.subplot2grid(layout, (4, 0))\n",
    "        ax3.plot(y_train.index, weights[:, 2])\n",
    "        axes.append(ax3)\n",
    "\n",
    "    if weights.shape[1] > 3:\n",
    "        ax4 = plt.subplot2grid(layout, (5, 0))\n",
    "        ax4.plot(y_train.index, weights[:, 3])\n",
    "        axes.append(ax4)\n",
    "\n",
    "    for ax in axes:\n",
    "        ax.legend(['weights'], frameon=True, shadow=True)\n",
    "    \n",
    "fig.tight_layout()"
   ]
  },
  {
   "cell_type": "markdown",
   "id": "dd9b741f",
   "metadata": {},
   "source": [
    "Evaluate the model in-sample:"
   ]
  },
  {
   "cell_type": "code",
   "execution_count": null,
   "id": "97683194",
   "metadata": {},
   "outputs": [],
   "source": [
    "%%time\n",
    "pred = model.predict(data_train[['temperature']])"
   ]
  },
  {
   "cell_type": "markdown",
   "id": "dbb87693",
   "metadata": {},
   "source": [
    "The number of parameters is:"
   ]
  },
  {
   "cell_type": "code",
   "execution_count": null,
   "id": "8e0ae98d",
   "metadata": {},
   "outputs": [],
   "source": [
    "model.n_parameters"
   ]
  },
  {
   "cell_type": "code",
   "execution_count": null,
   "id": "06e47958",
   "metadata": {},
   "outputs": [],
   "source": [
    "y_true = data_train['consumption']\n",
    "\n",
    "print(f\"In-sample CV(RMSE) (%): {cvrmse(y_true, pred['consumption'])*100}\")\n",
    "print(f\"In-sample NMBE (%): {nmbe(y_true, pred['consumption'])*100}\")"
   ]
  },
  {
   "cell_type": "markdown",
   "id": "baff9397",
   "metadata": {},
   "source": [
    "We can access the individual components of the predictions too:"
   ]
  },
  {
   "cell_type": "code",
   "execution_count": null,
   "id": "22dbc55c",
   "metadata": {},
   "outputs": [],
   "source": [
    "%%time\n",
    "pred = model.predict(data_train[['temperature']], include_components=True)\n",
    "pred.head()"
   ]
  },
  {
   "cell_type": "code",
   "execution_count": 23,
   "id": "bae35892",
   "metadata": {},
   "outputs": [],
   "source": [
    "assert np.allclose(pred['consumption'],\n",
    "            pred[[col for col in pred.columns if col != 'consumption']].sum(axis=1)\n",
    ")"
   ]
  },
  {
   "cell_type": "markdown",
   "id": "675f650e",
   "metadata": {},
   "source": [
    "The parameters `n_estimators` and `sigma` can and should be optimized. The relevant functionality is provided by `eensight.pipelines.model_selection.optimize`:\n",
    "\n",
    "### `eensight.pipelines.model_selection.optimize` \n",
    "\n",
    "    Parameters\n",
    "    ----------\n",
    "    estimator : Any regressor with scikit-learn API (i.e. with fit and\n",
    "        predict methods) \n",
    "        The object to use to fit the data.\n",
    "    X : pandas dataframe of shape (n_samples, n_features)\n",
    "        The input data to optimize on.\n",
    "    y : pandas dataframe of shape of shape (n_samples, 1)\n",
    "        The training target data to optimize on.\n",
    "    n_repeats : int, default=2\n",
    "        Number of times to repeat the train/test data split process process.\n",
    "    test_size : float, default=0.2\n",
    "        The proportion of the dataset to include in the test split. Should be between\n",
    "        0.0 and 1.0.\n",
    "    target_name : str, default='consumption'\n",
    "        It is expected that both y and the predictions of the `estimator` are\n",
    "        dataframes with a single column, the name of which is the one provided\n",
    "        for `target_name`.\n",
    "    budget : int, default=20\n",
    "        The number of trials. If this argument is set to `None`, there is no\n",
    "        limitation on the number of trials. If `timeout` is also set to `None`,\n",
    "        the study continues to create trials until it receives a termination\n",
    "        signal such as Ctrl+C or SIGTERM.\n",
    "    timeout : int, default=None\n",
    "        Stop study after the given number of second(s). If this argument is set to\n",
    "        `None`, the study is executed without time limitation.\n",
    "    scorers : dict, default=None\n",
    "        dict mapping scorer name to a callable. The callable object\n",
    "        should have signature ``scorer(y_true, y_pred)``.\n",
    "        The default value is:\n",
    "        `OrderedDict(\n",
    "            {\n",
    "                \"CVRMSE\": lambda y_true, y_pred:\n",
    "                    eensight.pipelines.model_selection.cvrmse(\n",
    "                        y_true[target_name], y_pred[target_name]\n",
    "                    ),\n",
    "                \"AbsNMBE\": lambda y_true, y_pred: np.abs(\n",
    "                    eensight.pipelines.model_selection.nmbe(\n",
    "                        y_true[target_name], y_pred[target_name]\n",
    "                    )\n",
    "                ),\n",
    "            }\n",
    "        )`\n",
    "    directions : list, default=None\n",
    "        A sequence of directions during multi-objective optimization. Set\n",
    "        ``minimize`` for minimization and ``maximize`` for maximization.\n",
    "        The default value is ['minimize', 'minimize'].\n",
    "    optimization_space : callable, default=None\n",
    "        A function that takes an `optuna.trial.Trial` as input and returns\n",
    "        a parameter combination to try. If it is None, the `estimator` should\n",
    "        have an `optimization_space` function.\n",
    "    multivariate: bool, default=False\n",
    "        If `True`, the multivariate TPE (Tree-structured Parzen Estimator)\n",
    "        is used when suggesting parameters.\n",
    "    out_of_sample: bool, default=True\n",
    "        Whether the optimization should be based on out-of-sample (if `True`) or\n",
    "        in-sample (if `False`) performance.\n",
    "    verbose : bool, default=False\n",
    "        Flag to show progress bars or not.\n",
    "    tags: str or list of str, default=None\n",
    "        Tags are returned by the function as-is and are useful as a way to distinguish\n",
    "        the results when running the function many times in parallel.\n",
    "    opt_space_kwards : dict\n",
    "        Additional keyworded parameters to pass to the `optimization_space`\n",
    "        function."
   ]
  },
  {
   "cell_type": "markdown",
   "id": "d6f72072",
   "metadata": {},
   "source": [
    "The default is to optimize for out-of-sample performance. If the goal is to have the best fit on the available data, `out_of_sample` should be set to `False`.\n",
    "\n",
    "The `CalendarEnsemble` has a static method `optimization_space`:\n",
    "\n",
    "```python\n",
    "def optimization_space(trial, **kwargs):\n",
    "        n_estimators_lower = kwargs.get(\"n_estimators_lower\") or 2\n",
    "        n_estimators_upper = kwargs.get(\"n_estimators_upper\") or 12\n",
    "        sigma_lower = kwargs.get(\"sigma_lower\") or 0.1\n",
    "        sigma_upper = kwargs.get(\"sigma_upper\") or 2.0\n",
    "\n",
    "        param_space = {\n",
    "            \"n_estimators\": trial.suggest_int(\n",
    "                \"n_estimators\", n_estimators_lower, n_estimators_upper\n",
    "            ),\n",
    "            \"sigma\": trial.suggest_float(\"sigma\", sigma_lower, sigma_upper),\n",
    "        }\n",
    "        return param_space\n",
    "```"
   ]
  },
  {
   "cell_type": "code",
   "execution_count": null,
   "id": "1a57617e",
   "metadata": {},
   "outputs": [],
   "source": [
    "%%time\n",
    "res = optimize(model, X_train, y_train, budget=20, test_size=0.2, n_repeats=2,\n",
    "               out_of_sample=True, multivariate=True)"
   ]
  },
  {
   "cell_type": "markdown",
   "id": "dc133a3c",
   "metadata": {},
   "source": [
    "The optimization results constitute a Pareto front of different values for the CVRMSE and NMBE metrics:"
   ]
  },
  {
   "cell_type": "code",
   "execution_count": null,
   "id": "51a2aa5c",
   "metadata": {},
   "outputs": [],
   "source": [
    "pd.concat((res.scores, res.params), axis=1)"
   ]
  },
  {
   "cell_type": "markdown",
   "id": "f06ec882",
   "metadata": {},
   "source": [
    "We can consider all parameter combinations and create an ensemble out of them:"
   ]
  },
  {
   "cell_type": "code",
   "execution_count": 26,
   "id": "01c0f098",
   "metadata": {},
   "outputs": [],
   "source": [
    "to_include = res.scores.sort_values(by='CVRMSE').iloc[:5]\n",
    "params_ = res.params.loc[to_include.index]"
   ]
  },
  {
   "cell_type": "code",
   "execution_count": 29,
   "id": "24b5ff6d",
   "metadata": {},
   "outputs": [],
   "source": [
    "model_ens = ParetoEnsemble(\n",
    "                base_estimator=model,\n",
    "                ensemble_parameters=params_.to_dict('records')\n",
    ")"
   ]
  },
  {
   "cell_type": "code",
   "execution_count": null,
   "id": "3c9caf0c",
   "metadata": {},
   "outputs": [],
   "source": [
    "%%time\n",
    "model_ens = model_ens.fit(X_train, y_train)"
   ]
  },
  {
   "cell_type": "code",
   "execution_count": null,
   "id": "f7be6785",
   "metadata": {},
   "outputs": [],
   "source": [
    "%%time\n",
    "pred = model_ens.predict(data_train[['temperature']])"
   ]
  },
  {
   "cell_type": "code",
   "execution_count": null,
   "id": "960a808f",
   "metadata": {},
   "outputs": [],
   "source": [
    "y_true = data_train[['consumption']]\n",
    "\n",
    "print(f\"In-sample CV(RMSE) (%): {cvrmse(y_true, pred)*100}\")\n",
    "print(f\"In-sample NMBE (%): {nmbe(y_true, pred)*100}\")"
   ]
  },
  {
   "cell_type": "code",
   "execution_count": null,
   "id": "2861de74",
   "metadata": {},
   "outputs": [],
   "source": [
    "model_ens.n_parameters"
   ]
  },
  {
   "cell_type": "markdown",
   "id": "a7d97e4c",
   "metadata": {},
   "source": [
    "The individual components propagate from the ensemble's individual models:"
   ]
  },
  {
   "cell_type": "code",
   "execution_count": null,
   "id": "bcd0048f",
   "metadata": {},
   "outputs": [],
   "source": [
    "%%time\n",
    "pred = model_ens.predict(data_train[['temperature']], include_components=True)\n",
    "pred.head()"
   ]
  },
  {
   "cell_type": "code",
   "execution_count": 36,
   "id": "2d60eff6",
   "metadata": {},
   "outputs": [],
   "source": [
    "assert np.allclose(pred['consumption'],\n",
    "            pred[[col for col in pred.columns if col != 'consumption']].sum(axis=1)\n",
    ")"
   ]
  },
  {
   "cell_type": "markdown",
   "id": "c35e5a63",
   "metadata": {},
   "source": [
    "Finally, we can visualize the residuals:"
   ]
  },
  {
   "cell_type": "code",
   "execution_count": 37,
   "id": "f033a818",
   "metadata": {},
   "outputs": [],
   "source": [
    "resid = data_train[['consumption']] - pred[['consumption']]\n",
    "resid = StandardScaler().fit_transform(resid).squeeze()\n",
    "resid = pd.Series(data=resid, index=data_train.index)"
   ]
  },
  {
   "cell_type": "code",
   "execution_count": null,
   "id": "8bee2bb5",
   "metadata": {},
   "outputs": [],
   "source": [
    "outliers = resid[data_train['consumption_outlier']]\n",
    "\n",
    "with plt.style.context('seaborn-whitegrid'):\n",
    "    grid = sns.jointplot(x=pred['consumption'], y=resid)\n",
    "    sns.scatterplot(x=pred.loc[outliers.index, 'consumption'], y=outliers, \n",
    "                    color='red', ax=grid.ax_joint)\n",
    "    grid.fig.set_figwidth(12)\n",
    "    grid.fig.set_figheight(5)\n",
    "    grid.set_axis_labels(xlabel='Predicted Value', ylabel='Standardized Residuals')"
   ]
  },
  {
   "cell_type": "markdown",
   "id": "461cc9fa",
   "metadata": {},
   "source": [
    "----------"
   ]
  }
 ],
 "metadata": {
  "kernelspec": {
   "display_name": "Python 3 (ipykernel)",
   "language": "python",
   "name": "python3"
  },
  "language_info": {
   "codemirror_mode": {
    "name": "ipython",
    "version": 3
   },
   "file_extension": ".py",
   "mimetype": "text/x-python",
   "name": "python",
   "nbconvert_exporter": "python",
   "pygments_lexer": "ipython3",
   "version": "3.8.0"
  }
 },
 "nbformat": 4,
 "nbformat_minor": 5
}
