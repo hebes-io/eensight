{
 "cells": [
  {
   "cell_type": "markdown",
   "id": "bb66734f",
   "metadata": {},
   "source": [
    "# The `eensight` functionality for composing linear model features\n",
    "\n",
    "The functionality for composing features for linear regression is provided by `LinearModelFeatures` in `eensight.features.compose`. \n",
    "\n",
    "The different models that are used in `eensight` rely on their `LinearModelFeatures` composer to generate the regression's [design matrix](https://en.wikipedia.org/wiki/Design_matrix).\n",
    "\n",
    "A `LinearModelFeatures` composer can get information about features and encoders from the application's catalog or through its API."
   ]
  },
  {
   "cell_type": "code",
   "execution_count": 1,
   "id": "723787c5",
   "metadata": {},
   "outputs": [],
   "source": [
    "%load_ext autoreload\n",
    "%autoreload 2"
   ]
  },
  {
   "cell_type": "code",
   "execution_count": 2,
   "id": "0b4e78b4",
   "metadata": {},
   "outputs": [],
   "source": [
    "import calendar\n",
    "import numpy as np\n",
    "import pandas as pd"
   ]
  },
  {
   "cell_type": "code",
   "execution_count": 3,
   "id": "6d4733e7",
   "metadata": {},
   "outputs": [],
   "source": [
    "from eensight.utils.jupyter import load_catalog\n",
    "from eensight.features.compose import LinearModelFeatures\n",
    "from eensight.models.seasonal import SeasonalDecomposer"
   ]
  },
  {
   "cell_type": "markdown",
   "id": "e0dc2f64",
   "metadata": {},
   "source": [
    "## Using the data catalog"
   ]
  },
  {
   "cell_type": "markdown",
   "id": "68471497",
   "metadata": {},
   "source": [
    "The model details are read from a YAML file:\n",
    "\n",
    "`eensight/conf/base/models/towt.yaml`:\n",
    "\n",
    "```yaml\n",
    "add_features:\n",
    "  time:\n",
    "    type: datetime\n",
    "    subset: month, hourofweek\n",
    "  \n",
    "regressors:\n",
    "  month:\n",
    "    feature: month\n",
    "    type: categorical\n",
    "    encode_as: onehot\n",
    "\n",
    "  tow:\n",
    "    feature: hourofweek\n",
    "    type: categorical\n",
    "    max_n_categories: 60  \n",
    "    encode_as: onehot\n",
    "  \n",
    "  lin_temperature:\n",
    "    feature: temperature\n",
    "    type: linear\n",
    "  \n",
    "  flex_temperature:\n",
    "    feature: temperature\n",
    "    type: spline\n",
    "    n_knots: 5\n",
    "    degree: 1\n",
    "    strategy: uniform \n",
    "    extrapolation: constant\n",
    "    interaction_only: true\n",
    "\n",
    "interactions:\n",
    "  tow, flex_temperature:\n",
    "    tow:\n",
    "      max_n_categories: 2 \n",
    "      stratify_by: temperature \n",
    "      min_samples_leaf: 15 \n",
    "```"
   ]
  },
  {
   "cell_type": "code",
   "execution_count": 4,
   "id": "59b4da8f",
   "metadata": {},
   "outputs": [],
   "source": [
    "catalog = load_catalog('demo', partial_catalog=True, model='towt')"
   ]
  },
  {
   "cell_type": "code",
   "execution_count": null,
   "id": "b1cb7734",
   "metadata": {},
   "outputs": [],
   "source": [
    "model_structure = catalog.load('model_structure')\n",
    "model_structure"
   ]
  },
  {
   "cell_type": "code",
   "execution_count": 6,
   "id": "df94f314",
   "metadata": {},
   "outputs": [],
   "source": [
    "composer = LinearModelFeatures(model_structure=model_structure)"
   ]
  },
  {
   "cell_type": "markdown",
   "id": "ea5e6508",
   "metadata": {},
   "source": [
    "The `fit` method of the composer calls two methods: `_create_transformers` and `_create_encoders`, but we can call them ourselves to see their impact (note, however, that they are **not** supposed to be called directly): "
   ]
  },
  {
   "cell_type": "code",
   "execution_count": 7,
   "id": "ce72d917",
   "metadata": {},
   "outputs": [],
   "source": [
    "composer._create_transformers()"
   ]
  },
  {
   "cell_type": "markdown",
   "id": "026c8437",
   "metadata": {},
   "source": [
    "The feature generators are applied in the same order that they were declared in the YAML configuration file."
   ]
  },
  {
   "cell_type": "code",
   "execution_count": null,
   "id": "e75f4ecd",
   "metadata": {},
   "outputs": [],
   "source": [
    "for item in composer.transformers_:\n",
    "    print(item)"
   ]
  },
  {
   "cell_type": "code",
   "execution_count": 9,
   "id": "0f9975e8",
   "metadata": {},
   "outputs": [],
   "source": [
    "composer._create_encoders()"
   ]
  },
  {
   "cell_type": "code",
   "execution_count": null,
   "id": "04cc514c",
   "metadata": {},
   "outputs": [],
   "source": [
    "for name, encoder in composer.encoders_['main_effects'].items():\n",
    "    print('--->', name)\n",
    "    print(encoder)"
   ]
  },
  {
   "cell_type": "code",
   "execution_count": null,
   "id": "225186fc",
   "metadata": {},
   "outputs": [],
   "source": [
    "for pair_name, encoder in composer.encoders_['interactions'].items():\n",
    "    print('--->', pair_name)\n",
    "    print(encoder)"
   ]
  },
  {
   "cell_type": "markdown",
   "id": "0f7cdf58",
   "metadata": {},
   "source": [
    "We can load some data from the catalog:"
   ]
  },
  {
   "cell_type": "code",
   "execution_count": null,
   "id": "e76d8b69",
   "metadata": {},
   "outputs": [],
   "source": [
    "train_input = catalog.load('train.root_input')"
   ]
  },
  {
   "cell_type": "markdown",
   "id": "84460ba8",
   "metadata": {},
   "source": [
    "`train_input` is a partitioned dataset. We only care about the temperature dataset for now:"
   ]
  },
  {
   "cell_type": "code",
   "execution_count": 13,
   "id": "21475b03",
   "metadata": {},
   "outputs": [],
   "source": [
    "load_data = train_input['temperature']\n",
    "data = load_data()\n",
    "\n",
    "# Add dummy consumption data\n",
    "data['consumption'] = 10 * data['temperature'] + np.random.randn(len(data))\n",
    "\n",
    "# Set time index\n",
    "data['timestamp'] = data['timestamp'].map(pd.to_datetime)\n",
    "data = data.drop_duplicates(subset=['timestamp'])\n",
    "data = data.set_index('timestamp')"
   ]
  },
  {
   "cell_type": "code",
   "execution_count": 15,
   "id": "2a42f1de",
   "metadata": {},
   "outputs": [],
   "source": [
    "X = data[['temperature']]\n",
    "y = data[['consumption']]"
   ]
  },
  {
   "cell_type": "code",
   "execution_count": 16,
   "id": "701a46d5",
   "metadata": {},
   "outputs": [],
   "source": [
    "composer = LinearModelFeatures(model_structure=model_structure)\n",
    "composer = composer.fit(X, y)"
   ]
  },
  {
   "cell_type": "markdown",
   "id": "da50357f",
   "metadata": {},
   "source": [
    "After fitting, a composer has a `component_names_` attribute:"
   ]
  },
  {
   "cell_type": "code",
   "execution_count": null,
   "id": "b9895e74",
   "metadata": {},
   "outputs": [],
   "source": [
    "composer.component_names_"
   ]
  },
  {
   "cell_type": "markdown",
   "id": "6ce54949",
   "metadata": {},
   "source": [
    "It also has a `component_matrix` attribute that shows how the different columns of the design matrix correspond to the different components. This allows us to break down a model's prediction into the additive contribution of each component."
   ]
  },
  {
   "cell_type": "code",
   "execution_count": null,
   "id": "eb7269c6",
   "metadata": {},
   "outputs": [],
   "source": [
    "composer.component_matrix"
   ]
  },
  {
   "cell_type": "code",
   "execution_count": 19,
   "id": "72f04447",
   "metadata": {},
   "outputs": [],
   "source": [
    "design_matrix = composer.transform(X)"
   ]
  },
  {
   "cell_type": "code",
   "execution_count": 21,
   "id": "e5e7f1e2",
   "metadata": {},
   "outputs": [],
   "source": [
    "assert design_matrix.shape[0] == X.shape[0]"
   ]
  },
  {
   "cell_type": "code",
   "execution_count": 24,
   "id": "eb1fa62e",
   "metadata": {},
   "outputs": [],
   "source": [
    "n_features = 0\n",
    "\n",
    "for encoder in composer.encoders_['main_effects'].values():\n",
    "    n_features += encoder.n_features_out_\n",
    "    \n",
    "for encoder in composer.encoders_['interactions'].values():\n",
    "    n_features += encoder.n_features_out_\n",
    "    \n",
    "assert design_matrix.shape[1] == n_features"
   ]
  },
  {
   "cell_type": "markdown",
   "id": "9e62b4eb",
   "metadata": {},
   "source": [
    "## Using the API"
   ]
  },
  {
   "cell_type": "code",
   "execution_count": 25,
   "id": "1c523674",
   "metadata": {},
   "outputs": [],
   "source": [
    "composer = LinearModelFeatures()"
   ]
  },
  {
   "cell_type": "markdown",
   "id": "ea89bc28",
   "metadata": {},
   "source": [
    "Feature generators can be added using the `add_new_feature` method. \n",
    "\n",
    "The feature generators are applied in the same order that they were added."
   ]
  },
  {
   "cell_type": "code",
   "execution_count": 26,
   "id": "ccc551dd",
   "metadata": {},
   "outputs": [],
   "source": [
    "composer = composer.add_new_feature(name='time', enc_type='datetime', \n",
    "                                    remainder='passthrough', \n",
    "                                    subset=['month', 'hourofweek'])"
   ]
  },
  {
   "cell_type": "markdown",
   "id": "bdffc8a4",
   "metadata": {},
   "source": [
    "Main effects can be added using the `add_main_effect` method:"
   ]
  },
  {
   "cell_type": "code",
   "execution_count": 27,
   "id": "bbec597a",
   "metadata": {},
   "outputs": [],
   "source": [
    "composer = composer.add_main_effect(name='tow', enc_type='categorical', \n",
    "                                    feature='hourofweek')"
   ]
  },
  {
   "cell_type": "markdown",
   "id": "2b22fc0b",
   "metadata": {},
   "source": [
    "Intercations can be added using the `add_interaction` method:"
   ]
  },
  {
   "cell_type": "code",
   "execution_count": 28,
   "id": "e6a47c06",
   "metadata": {},
   "outputs": [],
   "source": [
    "composer = composer.add_interaction(left_name='tow', right_name='spl_temperature',\n",
    "                                    left_enc_type='categorical', right_enc_type='spline',\n",
    "                                    left_feature='hourofweek', right_feature='temperature',\n",
    "                                    tow=dict(\n",
    "                                        min_samples_leaf=20,\n",
    "                                        max_n_categories=2\n",
    "                                    ), \n",
    "                                    spl_temperature=dict(\n",
    "                                        degree=2,\n",
    "                                        n_knots=4\n",
    "                                    )\n",
    ")"
   ]
  },
  {
   "cell_type": "code",
   "execution_count": 29,
   "id": "4afdc7fe",
   "metadata": {},
   "outputs": [],
   "source": [
    "composer = composer.fit(X, y)"
   ]
  },
  {
   "cell_type": "code",
   "execution_count": null,
   "id": "84bb4517",
   "metadata": {},
   "outputs": [],
   "source": [
    "for item in composer.transformers_:\n",
    "    print(item)"
   ]
  },
  {
   "cell_type": "code",
   "execution_count": null,
   "id": "1598a0c8",
   "metadata": {},
   "outputs": [],
   "source": [
    "for name, encoder in composer.encoders_['main_effects'].items():\n",
    "    print('--->', name)\n",
    "    print(encoder)"
   ]
  },
  {
   "cell_type": "code",
   "execution_count": null,
   "id": "3a67d3f3",
   "metadata": {},
   "outputs": [],
   "source": [
    "for pair_name, encoder in composer.encoders_['interactions'].items():\n",
    "    print('--->', pair_name)\n",
    "    print(encoder)"
   ]
  },
  {
   "cell_type": "markdown",
   "id": "c35229fd",
   "metadata": {},
   "source": [
    "An example of using the `LinearModelFeatures` API can be found in `eensight.models.seasonal.SeasonalDecomposer`:\n",
    "\n",
    "### `eensight.models.seasonal.SeasonalDecomposer` \n",
    "\n",
    "Seasonal decomposition model for time series data.\n",
    "    \n",
    "    Parameters\n",
    "    ----------\n",
    "    feature: str\n",
    "        The name of the time series feature to decompose.\n",
    "    dt : str, default=None\n",
    "        The name of the input dataframe's column that contains datetime information.\n",
    "        If None, it is assumed that the datetime information is provided by the\n",
    "        input dataframe's index.\n",
    "    add_trend : bool, default=False\n",
    "        If True, a linear time trend will be added.\n",
    "    yearly_seasonality: Fit yearly seasonality.\n",
    "        Can be 'auto', True, False, or a number of Fourier terms to generate.\n",
    "        Default: 'auto'.\n",
    "    weekly_seasonality: Fit weekly seasonality.\n",
    "        Can be 'auto', True, False, or a number of Fourier terms to generate.\n",
    "        Default: 'auto'.\n",
    "    daily_seasonality: Fit daily seasonality.\n",
    "        Can be 'auto', True, False, or a number of Fourier terms to generate.\n",
    "        Default: 'auto'.\n",
    "    alpha : float, default=1\n",
    "        Parameter for the underlying ridge estimator. It must be a positive float.\n",
    "        Regularization improves the conditioning of the problem and reduces the\n",
    "        variance of the estimates. Larger values specify stronger regularization. "
   ]
  },
  {
   "cell_type": "code",
   "execution_count": 33,
   "id": "163b84a0",
   "metadata": {},
   "outputs": [],
   "source": [
    "model = SeasonalDecomposer(\n",
    "        'consumption',\n",
    "        add_trend=True,\n",
    "        yearly_seasonality=\"auto\",\n",
    "        weekly_seasonality=False,\n",
    "        daily_seasonality=False,\n",
    ")"
   ]
  },
  {
   "cell_type": "markdown",
   "id": "f4c58201",
   "metadata": {},
   "source": [
    "We can add a different daily seasonality per day of week:"
   ]
  },
  {
   "cell_type": "code",
   "execution_count": 35,
   "id": "298a9d4c",
   "metadata": {},
   "outputs": [],
   "source": [
    "dates = data.index.to_series()\n",
    "X = data[['consumption']].copy()\n",
    "\n",
    "X['dayofweek'] = dates.dt.dayofweek.map(lambda x: calendar.day_abbr[x])\n",
    "X = X.merge(pd.get_dummies(X['dayofweek']), left_index=True, right_index=True).drop(\n",
    "    'dayofweek', axis=1\n",
    ")\n",
    "\n",
    "for i in range(7):\n",
    "    day = calendar.day_abbr[i]\n",
    "    model.add_seasonality(\n",
    "        f\"daily_on_{day}\", period=1, fourier_order=4, condition_name=day\n",
    "    )"
   ]
  },
  {
   "cell_type": "code",
   "execution_count": 37,
   "id": "9ef3c089",
   "metadata": {},
   "outputs": [],
   "source": [
    "model = model.fit(X)"
   ]
  },
  {
   "cell_type": "code",
   "execution_count": null,
   "id": "2da1e517",
   "metadata": {},
   "outputs": [],
   "source": [
    "for item in model.composer_.transformers_:\n",
    "    print(item)"
   ]
  },
  {
   "cell_type": "code",
   "execution_count": null,
   "id": "11477216",
   "metadata": {},
   "outputs": [],
   "source": [
    "for name, encoder in model.composer_.encoders_['main_effects'].items():\n",
    "    print('--->', name)\n",
    "    print(encoder)"
   ]
  },
  {
   "cell_type": "code",
   "execution_count": null,
   "id": "788f4153",
   "metadata": {},
   "outputs": [],
   "source": [
    "for pair_name, encoder in model.composer_.encoders_['interactions'].items():\n",
    "    print('--->', pair_name)\n",
    "    print(encoder)"
   ]
  },
  {
   "cell_type": "code",
   "execution_count": null,
   "id": "bd72cb9d",
   "metadata": {},
   "outputs": [],
   "source": [
    "model.composer_.component_matrix"
   ]
  },
  {
   "cell_type": "code",
   "execution_count": null,
   "id": "4e0d98f4",
   "metadata": {},
   "outputs": [],
   "source": []
  }
 ],
 "metadata": {
  "kernelspec": {
   "display_name": "Python 3 (ipykernel)",
   "language": "python",
   "name": "python3"
  },
  "language_info": {
   "codemirror_mode": {
    "name": "ipython",
    "version": 3
   },
   "file_extension": ".py",
   "mimetype": "text/x-python",
   "name": "python",
   "nbconvert_exporter": "python",
   "pygments_lexer": "ipython3",
   "version": "3.8.0"
  }
 },
 "nbformat": 4,
 "nbformat_minor": 5
}
